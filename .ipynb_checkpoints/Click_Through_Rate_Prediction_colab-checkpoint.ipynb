{
 "cells": [
  {
   "cell_type": "markdown",
   "id": "5c5137a7",
   "metadata": {},
   "source": [
    "<h1>Click Through Rate Prediction for ads</h1>"
   ]
  },
  {
   "cell_type": "code",
   "execution_count": 1,
   "id": "bee5248d",
   "metadata": {
    "id": "bee5248d"
   },
   "outputs": [
    {
     "name": "stderr",
     "output_type": "stream",
     "text": [
      "<frozen importlib._bootstrap>:219: RuntimeWarning: scipy._lib.messagestream.MessageStream size changed, may indicate binary incompatibility. Expected 56 from C header, got 64 from PyObject\n"
     ]
    }
   ],
   "source": [
    "import sys\n",
    "sys.path.insert(0,'C:/users/stone/anaconda3/envs/env1/lib/site-packages')\n",
    "import numpy as np\n",
    "import pandas as pd\n",
    "import matplotlib.pyplot as plt\n",
    "import seaborn as sns\n",
    "\n",
    "from sklearn.model_selection import train_test_split, GridSearchCV\n",
    "from sklearn.linear_model import LogisticRegression\n",
    "from sklearn.ensemble import RandomForestClassifier\n",
    "import lightgbm as lgb\n",
    "from sklearn import metrics\n",
    "from time import time\n",
    "from tqdm import tqdm\n",
    "\n",
    "from imblearn.over_sampling import SMOTE\n",
    "import joblib\n",
    "\n",
    "import warnings\n",
    "warnings.filterwarnings('ignore')"
   ]
  },
  {
   "cell_type": "code",
   "execution_count": 3,
   "id": "023c7531",
   "metadata": {
    "colab": {
     "base_uri": "https://localhost:8080/",
     "height": 299
    },
    "id": "023c7531",
    "outputId": "3626b8fa-0a96-4120-8962-c52d0b756bce"
   },
   "outputs": [
    {
     "data": {
      "text/html": [
       "<div>\n",
       "<style scoped>\n",
       "    .dataframe tbody tr th:only-of-type {\n",
       "        vertical-align: middle;\n",
       "    }\n",
       "\n",
       "    .dataframe tbody tr th {\n",
       "        vertical-align: top;\n",
       "    }\n",
       "\n",
       "    .dataframe thead th {\n",
       "        text-align: right;\n",
       "    }\n",
       "</style>\n",
       "<table border=\"1\" class=\"dataframe\">\n",
       "  <thead>\n",
       "    <tr style=\"text-align: right;\">\n",
       "      <th></th>\n",
       "      <th>click</th>\n",
       "      <th>C1</th>\n",
       "      <th>banner_pos</th>\n",
       "      <th>site_id</th>\n",
       "      <th>site_domain</th>\n",
       "      <th>site_category</th>\n",
       "      <th>app_id</th>\n",
       "      <th>app_domain</th>\n",
       "      <th>app_category</th>\n",
       "      <th>device_id</th>\n",
       "      <th>...</th>\n",
       "      <th>C17</th>\n",
       "      <th>C18</th>\n",
       "      <th>C19</th>\n",
       "      <th>C20</th>\n",
       "      <th>C21</th>\n",
       "      <th>month</th>\n",
       "      <th>dayofweek</th>\n",
       "      <th>day</th>\n",
       "      <th>hour</th>\n",
       "      <th>y</th>\n",
       "    </tr>\n",
       "  </thead>\n",
       "  <tbody>\n",
       "    <tr>\n",
       "      <th>0</th>\n",
       "      <td>False</td>\n",
       "      <td>1005</td>\n",
       "      <td>1</td>\n",
       "      <td>856e6d3f</td>\n",
       "      <td>58a89a43</td>\n",
       "      <td>f028772b</td>\n",
       "      <td>ecad2386</td>\n",
       "      <td>7801e8d9</td>\n",
       "      <td>07d7df22</td>\n",
       "      <td>a99f214a</td>\n",
       "      <td>...</td>\n",
       "      <td>2528</td>\n",
       "      <td>0</td>\n",
       "      <td>39</td>\n",
       "      <td>100075</td>\n",
       "      <td>221</td>\n",
       "      <td>10</td>\n",
       "      <td>1</td>\n",
       "      <td>28</td>\n",
       "      <td>14</td>\n",
       "      <td>0</td>\n",
       "    </tr>\n",
       "    <tr>\n",
       "      <th>1</th>\n",
       "      <td>True</td>\n",
       "      <td>1005</td>\n",
       "      <td>1</td>\n",
       "      <td>e151e245</td>\n",
       "      <td>7e091613</td>\n",
       "      <td>f028772b</td>\n",
       "      <td>ecad2386</td>\n",
       "      <td>7801e8d9</td>\n",
       "      <td>07d7df22</td>\n",
       "      <td>a99f214a</td>\n",
       "      <td>...</td>\n",
       "      <td>1934</td>\n",
       "      <td>2</td>\n",
       "      <td>39</td>\n",
       "      <td>-1</td>\n",
       "      <td>16</td>\n",
       "      <td>10</td>\n",
       "      <td>2</td>\n",
       "      <td>22</td>\n",
       "      <td>19</td>\n",
       "      <td>1</td>\n",
       "    </tr>\n",
       "    <tr>\n",
       "      <th>2</th>\n",
       "      <td>False</td>\n",
       "      <td>1005</td>\n",
       "      <td>0</td>\n",
       "      <td>e3c09f3a</td>\n",
       "      <td>d262cf1e</td>\n",
       "      <td>28905ebd</td>\n",
       "      <td>ecad2386</td>\n",
       "      <td>7801e8d9</td>\n",
       "      <td>07d7df22</td>\n",
       "      <td>a99f214a</td>\n",
       "      <td>...</td>\n",
       "      <td>2552</td>\n",
       "      <td>3</td>\n",
       "      <td>167</td>\n",
       "      <td>100202</td>\n",
       "      <td>23</td>\n",
       "      <td>10</td>\n",
       "      <td>3</td>\n",
       "      <td>23</td>\n",
       "      <td>18</td>\n",
       "      <td>0</td>\n",
       "    </tr>\n",
       "    <tr>\n",
       "      <th>3</th>\n",
       "      <td>False</td>\n",
       "      <td>1002</td>\n",
       "      <td>0</td>\n",
       "      <td>0da94452</td>\n",
       "      <td>248e439f</td>\n",
       "      <td>50e219e0</td>\n",
       "      <td>ecad2386</td>\n",
       "      <td>7801e8d9</td>\n",
       "      <td>07d7df22</td>\n",
       "      <td>0fa578fd</td>\n",
       "      <td>...</td>\n",
       "      <td>2478</td>\n",
       "      <td>3</td>\n",
       "      <td>167</td>\n",
       "      <td>100074</td>\n",
       "      <td>23</td>\n",
       "      <td>10</td>\n",
       "      <td>2</td>\n",
       "      <td>22</td>\n",
       "      <td>19</td>\n",
       "      <td>0</td>\n",
       "    </tr>\n",
       "    <tr>\n",
       "      <th>4</th>\n",
       "      <td>True</td>\n",
       "      <td>1005</td>\n",
       "      <td>0</td>\n",
       "      <td>1fbe01fe</td>\n",
       "      <td>f3845767</td>\n",
       "      <td>28905ebd</td>\n",
       "      <td>ecad2386</td>\n",
       "      <td>7801e8d9</td>\n",
       "      <td>07d7df22</td>\n",
       "      <td>a99f214a</td>\n",
       "      <td>...</td>\n",
       "      <td>1722</td>\n",
       "      <td>0</td>\n",
       "      <td>35</td>\n",
       "      <td>-1</td>\n",
       "      <td>79</td>\n",
       "      <td>10</td>\n",
       "      <td>1</td>\n",
       "      <td>21</td>\n",
       "      <td>8</td>\n",
       "      <td>1</td>\n",
       "    </tr>\n",
       "  </tbody>\n",
       "</table>\n",
       "<p>5 rows × 27 columns</p>\n",
       "</div>"
      ],
      "text/plain": [
       "   click    C1  banner_pos   site_id site_domain site_category    app_id  \\\n",
       "0  False  1005           1  856e6d3f    58a89a43      f028772b  ecad2386   \n",
       "1   True  1005           1  e151e245    7e091613      f028772b  ecad2386   \n",
       "2  False  1005           0  e3c09f3a    d262cf1e      28905ebd  ecad2386   \n",
       "3  False  1002           0  0da94452    248e439f      50e219e0  ecad2386   \n",
       "4   True  1005           0  1fbe01fe    f3845767      28905ebd  ecad2386   \n",
       "\n",
       "  app_domain app_category device_id  ...   C17 C18  C19     C20  C21  month  \\\n",
       "0   7801e8d9     07d7df22  a99f214a  ...  2528   0   39  100075  221     10   \n",
       "1   7801e8d9     07d7df22  a99f214a  ...  1934   2   39      -1   16     10   \n",
       "2   7801e8d9     07d7df22  a99f214a  ...  2552   3  167  100202   23     10   \n",
       "3   7801e8d9     07d7df22  0fa578fd  ...  2478   3  167  100074   23     10   \n",
       "4   7801e8d9     07d7df22  a99f214a  ...  1722   0   35      -1   79     10   \n",
       "\n",
       "   dayofweek  day  hour  y  \n",
       "0          1   28    14  0  \n",
       "1          2   22    19  1  \n",
       "2          3   23    18  0  \n",
       "3          2   22    19  0  \n",
       "4          1   21     8  1  \n",
       "\n",
       "[5 rows x 27 columns]"
      ]
     },
     "execution_count": 3,
     "metadata": {},
     "output_type": "execute_result"
    }
   ],
   "source": [
    "data=pd.read_csv('data.csv')\n",
    "data.head()"
   ]
  },
  {
   "cell_type": "code",
   "execution_count": 4,
   "id": "a0b36097",
   "metadata": {
    "colab": {
     "base_uri": "https://localhost:8080/"
    },
    "id": "a0b36097",
    "outputId": "907372a7-f3eb-431e-d04c-a089ac6d8946"
   },
   "outputs": [
    {
     "name": "stdout",
     "output_type": "stream",
     "text": [
      "(99999, 27)\n"
     ]
    }
   ],
   "source": [
    "print(data.shape)"
   ]
  },
  {
   "cell_type": "code",
   "execution_count": 5,
   "id": "9353b3c0",
   "metadata": {
    "colab": {
     "base_uri": "https://localhost:8080/"
    },
    "id": "9353b3c0",
    "outputId": "7469486e-8a9b-4c3b-d840-bbe53665c0cf"
   },
   "outputs": [
    {
     "name": "stdout",
     "output_type": "stream",
     "text": [
      "<class 'pandas.core.frame.DataFrame'>\n",
      "RangeIndex: 99999 entries, 0 to 99998\n",
      "Data columns (total 27 columns):\n",
      " #   Column            Non-Null Count  Dtype \n",
      "---  ------            --------------  ----- \n",
      " 0   click             99999 non-null  bool  \n",
      " 1   C1                99999 non-null  int64 \n",
      " 2   banner_pos        99999 non-null  int64 \n",
      " 3   site_id           99999 non-null  object\n",
      " 4   site_domain       99999 non-null  object\n",
      " 5   site_category     99999 non-null  object\n",
      " 6   app_id            99999 non-null  object\n",
      " 7   app_domain        99999 non-null  object\n",
      " 8   app_category      99999 non-null  object\n",
      " 9   device_id         99999 non-null  object\n",
      " 10  device_ip         99999 non-null  object\n",
      " 11  device_model      99999 non-null  object\n",
      " 12  device_type       99999 non-null  int64 \n",
      " 13  device_conn_type  99999 non-null  int64 \n",
      " 14  C14               99999 non-null  int64 \n",
      " 15  C15               99999 non-null  int64 \n",
      " 16  C16               99999 non-null  int64 \n",
      " 17  C17               99999 non-null  int64 \n",
      " 18  C18               99999 non-null  int64 \n",
      " 19  C19               99999 non-null  int64 \n",
      " 20  C20               99999 non-null  int64 \n",
      " 21  C21               99999 non-null  int64 \n",
      " 22  month             99999 non-null  int64 \n",
      " 23  dayofweek         99999 non-null  int64 \n",
      " 24  day               99999 non-null  int64 \n",
      " 25  hour              99999 non-null  int64 \n",
      " 26  y                 99999 non-null  int64 \n",
      "dtypes: bool(1), int64(17), object(9)\n",
      "memory usage: 19.9+ MB\n"
     ]
    }
   ],
   "source": [
    "data.info()"
   ]
  },
  {
   "cell_type": "markdown",
   "id": "c287e92b",
   "metadata": {
    "id": "c287e92b"
   },
   "source": [
    "Columns don't seem to have any missing values. All variables are categorical\n"
   ]
  },
  {
   "cell_type": "markdown",
   "id": "faff004c",
   "metadata": {
    "id": "faff004c"
   },
   "source": [
    "<h3>Data Exploration</h3>"
   ]
  },
  {
   "cell_type": "markdown",
   "id": "057c86cb",
   "metadata": {
    "id": "057c86cb"
   },
   "source": [
    "<h4>Utility functions</h4>"
   ]
  },
  {
   "cell_type": "code",
   "execution_count": 10,
   "id": "54bf91ff",
   "metadata": {
    "id": "54bf91ff"
   },
   "outputs": [],
   "source": [
    "## Function to clean categorical columns with multiple levels and plot\n",
    "\n",
    "def cleancol(df,col,replace_with):\n",
    "    '''\n",
    "    inputs\n",
    "    ------------------------\n",
    "    df- dataframe\n",
    "    col- categorical column in the dataframe\n",
    "    \n",
    "    output\n",
    "    -------------------------\n",
    "    The cleaned categorical column with fewer levels\n",
    "    '''\n",
    "    x1=100*df[col].value_counts(normalize=1)\n",
    "    \n",
    "    # identifying categories that are less than 15 of total \n",
    "    ids_to_replace=list(x1[x1<1].index)\n",
    "    \n",
    "    #Replacing the rare categories with a constant\n",
    "    df[col]=df[col].apply(lambda x:replace_with if x in ids_to_replace else x)\n",
    "    return df[col]\n",
    "\n",
    "\n",
    "def gen_barplot(df,col,order=[]):\n",
    "    '''accepts a dataframe and the name of a categorical column to generate barplot on'''\n",
    "    '''order is an optional list that can be passed to the function in which bars in the barplot will be arranged'''\n",
    "    '''Otherwise bars will be ordered from most frequent to least frequent'''\n",
    "    col_count=df[col].value_counts()\n",
    "    n_total=col_count.sum()\n",
    "    col_order=col_count.index\n",
    "    base_color='#1D5C63'\n",
    "    fig,ax=plt.subplots(figsize=(10,5))\n",
    "    \n",
    "    # showing propotion on the bars\n",
    "    if order==[]:\n",
    "        sns.countplot(data=df,y=col,color=base_color,order=col_order,ax=ax)\n",
    "        for i in range(len(col_count)):\n",
    "            count=col_count[i]\n",
    "            pct_string='{:0.1f}%'.format(100*count/n_total)\n",
    "            plt.text(count+1,i,pct_string,va='center')\n",
    "    else:\n",
    "        sns.countplot(data=df,y=col,color=base_color,order=order,ax=ax)\n",
    "        for i in range(len(order)):\n",
    "            count=col_count[order[i]]\n",
    "            pct_string='{:0.1f}%'.format(100*count/n_total)\n",
    "            plt.text(count+1,i,pct_string,va='center')  \n",
    "            \n",
    "    plt.title(col+' vs percent traffic')\n",
    "    plt.ylabel(col)\n",
    "    plt.xlabel('count');\n",
    "    return fig\n",
    "\n",
    "def plot_bar(df,col):\n",
    "    base_color='#1D5C63'\n",
    "    fig,ax=plt.subplots(figsize=(10,5))\n",
    "    df[col].value_counts(normalize=True).plot(kind='bar',color=base_color,ax=ax)\n",
    "    plt.title(col+' vs percent traffic')\n",
    "    plt.ylabel('% of total traffic')\n",
    "    plt.xlabel(col);\n",
    "    return fig\n",
    "    "
   ]
  },
  {
   "cell_type": "markdown",
   "id": "85bbfe01",
   "metadata": {
    "id": "85bbfe01"
   },
   "source": [
    "<h4>Click</h4>"
   ]
  },
  {
   "cell_type": "code",
   "execution_count": 11,
   "id": "769daecc",
   "metadata": {
    "colab": {
     "base_uri": "https://localhost:8080/",
     "height": 350
    },
    "id": "769daecc",
    "outputId": "8feb0a9f-f5d9-4262-d1b8-b8c3a1835aa2"
   },
   "outputs": [
    {
     "data": {
      "image/png": "[encoded data removed]",
      "text/plain": [
       "<Figure size 720x360 with 1 Axes>"
      ]
     },
     "metadata": {
      "needs_background": "light"
     },
     "output_type": "display_data"
    }
   ],
   "source": [
    "# Exploring the target variable\n",
    "gen_barplot(data,'click');"
   ]
  },
  {
   "cell_type": "markdown",
   "id": "4e8116ff",
   "metadata": {
    "id": "4e8116ff"
   },
   "source": [
    "<p>It can be seen that only 17% data belogs to the positive class while 83% belongs to the negative class</p>"
   ]
  },
  {
   "cell_type": "code",
   "execution_count": 8,
   "id": "46df9688",
   "metadata": {
    "colab": {
     "base_uri": "https://localhost:8080/"
    },
    "id": "46df9688",
    "outputId": "e2548584-7128-4736-c46a-1033244364f6"
   },
   "outputs": [
    {
     "name": "stderr",
     "output_type": "stream",
     "text": [
      "100%|██████████████████████████████████████████████████████████████████████████████████| 27/27 [00:29<00:00,  1.08s/it]\n"
     ]
    }
   ],
   "source": [
    "cols_to_plot=list(data.columns)\n",
    "\n",
    "for col in tqdm(cols_to_plot):\n",
    "    if col not in ['click','device_ip']:\n",
    "        data[col]=cleancol(data,col,col+'_other')\n"
   ]
  },
  {
   "cell_type": "code",
   "execution_count": 13,
   "id": "f3c9dc50",
   "metadata": {
    "colab": {
     "base_uri": "https://localhost:8080/"
    },
    "id": "f3c9dc50",
    "outputId": "da9a877e-4d68-410a-e6f1-d58d3bf82e14"
   },
   "outputs": [
    {
     "name": "stdout",
     "output_type": "stream",
     "text": [
      "Done!\n"
     ]
    }
   ],
   "source": [
    "# Dropping the month column as all have same value\n",
    "# dropping click as y and click both represent the same data\n",
    "data.drop(['month','click'],axis=1,inplace=True)\n",
    "print('Done!')"
   ]
  },
  {
   "cell_type": "code",
   "execution_count": null,
   "id": "e7535049",
   "metadata": {
    "id": "e7535049"
   },
   "outputs": [],
   "source": [
    "<break>"
   ]
  },
  {
   "cell_type": "code",
   "execution_count": 15,
   "id": "a1e56759",
   "metadata": {
    "colab": {
     "base_uri": "https://localhost:8080/",
     "height": 1000
    },
    "id": "a1e56759",
    "outputId": "edce2b22-00a8-45f8-8380-7affa718c5db",
    "scrolled": false
   },
   "outputs": [
    {
     "name": "stdout",
     "output_type": "stream",
     "text": [
      "click 'click'\n",
      "month 'month'\n"
     ]
    },
    {
     "data": {
      "image/png": "[encoded data removed]",
      "text/plain": [
       "<Figure size 720x360 with 1 Axes>"
      ]
     },
     "metadata": {
      "needs_background": "light"
     },
     "output_type": "display_data"
    },
    {
     "data": {
      "image/png": "[encoded data removed]",
      "text/plain": [
       "<Figure size 720x360 with 1 Axes>"
      ]
     },
     "metadata": {
      "needs_background": "light"
     },
     "output_type": "display_data"
    },
    {
     "data": {
      "image/png": "[encoded data removed]",
      "text/plain": [
       "<Figure size 720x360 with 1 Axes>"
      ]
     },
     "metadata": {
      "needs_background": "light"
     },
     "output_type": "display_data"
    },
    {
     "data": {
      "image/png": "[encoded data removed]",
      "text/plain": [
       "<Figure size 720x360 with 1 Axes>"
      ]
     },
     "metadata": {
      "needs_background": "light"
     },
     "output_type": "display_data"
    },
    {
     "data": {
      "image/png": "[encoded data removed]",
      "text/plain": [
       "<Figure size 720x360 with 1 Axes>"
      ]
     },
     "metadata": {
      "needs_background": "light"
     },
     "output_type": "display_data"
    },
    {
     "data": {
      "image/png": "[encoded data removed]",
      "text/plain": [
       "<Figure size 720x360 with 1 Axes>"
      ]
     },
     "metadata": {
      "needs_background": "light"
     },
     "output_type": "display_data"
    },
    {
     "data": {
      "image/png": "[encoded data removed]",
      "text/plain": [
       "<Figure size 720x360 with 1 Axes>"
      ]
     },
     "metadata": {
      "needs_background": "light"
     },
     "output_type": "display_data"
    },
    {
     "data": {
      "image/png": "[encoded data removed]",
      "text/plain": [
       "<Figure size 720x360 with 1 Axes>"
      ]
     },
     "metadata": {
      "needs_background": "light"
     },
     "output_type": "display_data"
    },
    {
     "data": {
      "image/png": "[encoded data removed]",
      "text/plain": [
       "<Figure size 720x360 with 1 Axes>"
      ]
     },
     "metadata": {
      "needs_background": "light"
     },
     "output_type": "display_data"
    },
    {
     "data": {
      "image/png": "[encoded data removed]",
      "text/plain": [
       "<Figure size 720x360 with 1 Axes>"
      ]
     },
     "metadata": {
      "needs_background": "light"
     },
     "output_type": "display_data"
    },
    {
     "data": {
      "image/png": "[encoded data removed]",
      "text/plain": [
       "<Figure size 720x360 with 1 Axes>"
      ]
     },
     "metadata": {
      "needs_background": "light"
     },
     "output_type": "display_data"
    },
    {
     "data": {
      "image/png": "[encoded data removed]",
      "text/plain": [
       "<Figure size 720x360 with 1 Axes>"
      ]
     },
     "metadata": {
      "needs_background": "light"
     },
     "output_type": "display_data"
    },
    {
     "data": {
      "image/png": "[encoded data removed]",
      "text/plain": [
       "<Figure size 720x360 with 1 Axes>"
      ]
     },
     "metadata": {
      "needs_background": "light"
     },
     "output_type": "display_data"
    },
    {
     "data": {
      "image/png": "[encoded data removed]",
      "text/plain": [
       "<Figure size 720x360 with 1 Axes>"
      ]
     },
     "metadata": {
      "needs_background": "light"
     },
     "output_type": "display_data"
    },
    {
     "data": {
      "image/png": "[encoded data removed]",
      "text/plain": [
       "<Figure size 720x360 with 1 Axes>"
      ]
     },
     "metadata": {
      "needs_background": "light"
     },
     "output_type": "display_data"
    },
    {
     "data": {
      "image/png": "[encoded data removed]",
      "text/plain": [
       "<Figure size 720x360 with 1 Axes>"
      ]
     },
     "metadata": {
      "needs_background": "light"
     },
     "output_type": "display_data"
    },
    {
     "data": {
      "image/png": "[encoded data removed]",
      "text/plain": [
       "<Figure size 720x360 with 1 Axes>"
      ]
     },
     "metadata": {
      "needs_background": "light"
     },
     "output_type": "display_data"
    },
    {
     "data": {
      "image/png": "[encoded data removed]",
      "text/plain": [
       "<Figure size 720x360 with 1 Axes>"
      ]
     },
     "metadata": {
      "needs_background": "light"
     },
     "output_type": "display_data"
    },
    {
     "data": {
      "image/png": "[encoded data removed]",
      "text/plain": [
       "<Figure size 720x360 with 1 Axes>"
      ]
     },
     "metadata": {
      "needs_background": "light"
     },
     "output_type": "display_data"
    },
    {
     "data": {
      "image/png": "[encoded data removed]",
      "text/plain": [
       "<Figure size 720x360 with 1 Axes>"
      ]
     },
     "metadata": {
      "needs_background": "light"
     },
     "output_type": "display_data"
    },
    {
     "data": {
      "image/png": "[encoded data removed]",
      "text/plain": [
       "<Figure size 720x360 with 1 Axes>"
      ]
     },
     "metadata": {
      "needs_background": "light"
     },
     "output_type": "display_data"
    },
    {
     "data": {
      "image/png": "[encoded data removed]",
      "text/plain": [
       "<Figure size 720x360 with 1 Axes>"
      ]
     },
     "metadata": {
      "needs_background": "light"
     },
     "output_type": "display_data"
    },
    {
     "data": {
      "image/png": "[encoded data removed]",
      "text/plain": [
       "<Figure size 720x360 with 1 Axes>"
      ]
     },
     "metadata": {
      "needs_background": "light"
     },
     "output_type": "display_data"
    },
    {
     "data": {
      "image/png": "[encoded data removed]",
      "text/plain": [
       "<Figure size 720x360 with 1 Axes>"
      ]
     },
     "metadata": {
      "needs_background": "light"
     },
     "output_type": "display_data"
    },
    {
     "data": {
      "image/png": "[encoded data removed]",
      "text/plain": [
       "<Figure size 720x360 with 1 Axes>"
      ]
     },
     "metadata": {
      "needs_background": "light"
     },
     "output_type": "display_data"
    },
    {
     "data": {
      "image/png": "[encoded data removed]",
      "text/plain": [
       "<Figure size 720x360 with 1 Axes>"
      ]
     },
     "metadata": {
      "needs_background": "light"
     },
     "output_type": "display_data"
    },
    {
     "data": {
      "image/png": "[encoded data removed]",
      "text/plain": [
       "<Figure size 720x360 with 1 Axes>"
      ]
     },
     "metadata": {
      "needs_background": "light"
     },
     "output_type": "display_data"
    }
   ],
   "source": [
    "# Plotting\n",
    "\n",
    "for col in cols_to_plot:\n",
    "    try:\n",
    "#         gen_barplot(data,col)\n",
    "        plot_bar(data,col);\n",
    "            \n",
    "    except Exception as e:\n",
    "        print(col,e)"
   ]
  },
  {
   "cell_type": "code",
   "execution_count": 9,
   "id": "51bdcfdf",
   "metadata": {
    "colab": {
     "base_uri": "https://localhost:8080/"
    },
    "id": "51bdcfdf",
    "outputId": "1af54f5c-301e-47e9-dfa1-3b0d7d1014d6"
   },
   "outputs": [
    {
     "data": {
      "text/plain": [
       "ip_other    94490\n",
       "6b9769f2      521\n",
       "431b3174      341\n",
       "af9205f9      236\n",
       "af62faf4      227\n",
       "285aa37d      222\n",
       "6394f6f6      219\n",
       "009a7861      217\n",
       "930ec31d      213\n",
       "2f323f36      209\n",
       "d90a7774      204\n",
       "488a9a3e      193\n",
       "57cd4006      186\n",
       "c6563308      183\n",
       "75bb1b58      180\n",
       "1cf29716      178\n",
       "0489ce3f      171\n",
       "8a014cbb      163\n",
       "a8536f3a      161\n",
       "ddd2926e      155\n",
       "9b1fe278      146\n",
       "ceffea69      139\n",
       "7ed30f6c      109\n",
       "ac77b71a       98\n",
       "693bff3e       92\n",
       "bca8f26d       90\n",
       "07875ea4       80\n",
       "b0070d9a       80\n",
       "884297d2       69\n",
       "ff1c4f79       68\n",
       "e54c1344       65\n",
       "95b2935e       64\n",
       "e9d5636f       63\n",
       "aa42be81       58\n",
       "e20f2e41       56\n",
       "2bb4af67       53\n",
       "Name: device_ip, dtype: int64"
      ]
     },
     "execution_count": 9,
     "metadata": {},
     "output_type": "execute_result"
    }
   ],
   "source": [
    "# Aggregating device ip separately\n",
    "x1=data['device_ip'].value_counts()\n",
    "ids_to_replace=list(x1[x1<=50].index)\n",
    "\n",
    "data['device_ip']=data['device_ip'].apply(lambda x:'ip_other' if x in ids_to_replace else x)\n",
    "data['device_ip'].value_counts()"
   ]
  },
  {
   "cell_type": "code",
   "execution_count": 30,
   "id": "5db04ec3",
   "metadata": {
    "colab": {
     "base_uri": "https://localhost:8080/"
    },
    "id": "5db04ec3",
    "outputId": "6c7a483d-34a8-4c25-d1b3-f4743533ab4b"
   },
   "outputs": [
    {
     "name": "stdout",
     "output_type": "stream",
     "text": [
      "C1---4\n",
      "banner_pos---3\n",
      "site_id---9\n",
      "site_domain---8\n",
      "site_category---5\n",
      "app_id---9\n",
      "app_domain---10\n",
      "app_category---6\n",
      "device_id---2\n",
      "device_ip---36\n",
      "device_model---14\n",
      "device_type---4\n",
      "device_conn_type---4\n",
      "C14---22\n",
      "C15---3\n",
      "C16---3\n",
      "C17---25\n",
      "C18---4\n",
      "C19---18\n",
      "C20---16\n",
      "C21---18\n",
      "dayofweek---7\n",
      "day---10\n",
      "hour---24\n",
      "y---2\n"
     ]
    }
   ],
   "source": [
    "# Checking number of levels per categorical column\n",
    "for col in data.columns:\n",
    "    print(col+'---'+str(data[col].nunique()))\n",
    "    "
   ]
  },
  {
   "cell_type": "code",
   "execution_count": 31,
   "id": "06b1160f",
   "metadata": {
    "colab": {
     "base_uri": "https://localhost:8080/"
    },
    "id": "06b1160f",
    "outputId": "6236e05c-1a59-4f62-af92-0ff2fca8b0d9"
   },
   "outputs": [
    {
     "name": "stdout",
     "output_type": "stream",
     "text": [
      "(99999, 24)\n",
      "(99999,)\n"
     ]
    }
   ],
   "source": [
    "# Separating data into features and target\n",
    "y=data['y']\n",
    "X=data.drop('y',axis=1)\n",
    "print(X.shape)\n",
    "print(y.shape)"
   ]
  },
  {
   "cell_type": "code",
   "execution_count": 32,
   "id": "8d822924",
   "metadata": {
    "colab": {
     "base_uri": "https://localhost:8080/"
    },
    "id": "8d822924",
    "outputId": "c1bd2995-6c99-4072-d5b9-595b2d53542d"
   },
   "outputs": [
    {
     "name": "stdout",
     "output_type": "stream",
     "text": [
      "X_train:  (69999, 203)\n",
      "y_train:  (69999,)\n",
      "X_test:  (30000, 203)\n",
      "y_test:  (30000,)\n"
     ]
    }
   ],
   "source": [
    "# Onehot encoding\n",
    "X_enc=pd.get_dummies(X,drop_first=True)\n",
    "\n",
    "#Train-test split\n",
    "X_train,X_test,y_train,y_test=train_test_split(X_enc,y,test_size=0.3,random_state=42)\n",
    "\n",
    "print('X_train: ',X_train.shape)\n",
    "print('y_train: ',y_train.shape)\n",
    "print('X_test: ',X_test.shape)\n",
    "print('y_test: ',y_test.shape)"
   ]
  },
  {
   "cell_type": "markdown",
   "id": "aafe4b33",
   "metadata": {
    "id": "aafe4b33"
   },
   "source": [
    "<h4>Creating dummy classifier</h4>"
   ]
  },
  {
   "cell_type": "code",
   "execution_count": 33,
   "id": "a8c0ebee",
   "metadata": {
    "colab": {
     "base_uri": "https://localhost:8080/"
    },
    "id": "a8c0ebee",
    "outputId": "8921aa06-dc27-4431-80ac-f84bdd55d818"
   },
   "outputs": [
    {
     "name": "stdout",
     "output_type": "stream",
     "text": [
      "accuracy:  0.8296\n",
      "f1_score:  0.0\n"
     ]
    }
   ],
   "source": [
    "# Creating a baseline classifier\n",
    "from sklearn.dummy import DummyClassifier\n",
    "from sklearn.metrics import accuracy_score,f1_score\n",
    "\n",
    "dummy=DummyClassifier(strategy='most_frequent')\n",
    "dummy.fit(X_train,y_train)\n",
    "pred_test=dummy.predict(X_test)\n",
    "print('accuracy: ',accuracy_score(y_test,pred_test))\n",
    "print('f1_score: ',f1_score(y_test,pred_test))"
   ]
  },
  {
   "cell_type": "markdown",
   "id": "c9db5a02",
   "metadata": {},
   "source": [
    "<h4>Choosing a suitable metric to evaluate model performance</h4>"
   ]
  },
  {
   "cell_type": "markdown",
   "id": "83bd722a",
   "metadata": {},
   "source": [
    "As can be seen from the dummy classifier performance, blindly predicting everything to be 0 will result in the prediction being correct 83% of the time. So f1 score will be chosen as the metric for evaluating model performance as optimizing f1 score will lead to minimizing false-positives and false-negatives which is very desireable in this case. Also since there is a considerable class imbalance, class weights will be used to counteract this effect"
   ]
  },
  {
   "cell_type": "markdown",
   "id": "57791864",
   "metadata": {
    "id": "57791864"
   },
   "source": [
    "<h4>Simple Logistic Regression</h4>"
   ]
  },
  {
   "cell_type": "code",
   "execution_count": null,
   "id": "cde146a6",
   "metadata": {
    "colab": {
     "base_uri": "https://localhost:8080/"
    },
    "id": "cde146a6",
    "outputId": "9518187b-1429-4fbb-8556-6ac2a367e871"
   },
   "outputs": [
    {
     "name": "stdout",
     "output_type": "stream",
     "text": [
      "285.6425709724426\n"
     ]
    }
   ],
   "source": [
    "# Fitting logistic regression with Lasso for feature selection\n",
    "# RFE is very computationally expensive to run on a dataset with 203 features\n",
    "\n",
    "start=time()\n",
    "model=LogisticRegression(max_iter=1000,solver='saga',penalty='l1',C=0.7)\n",
    "model.fit(X_train,y_train)\n",
    "print(time()-start)"
   ]
  },
  {
   "cell_type": "markdown",
   "id": "8c0e7d99",
   "metadata": {},
   "source": [
    "The One-Hot encoded dataframe has 203 features. But not all features seem very useful. So lasso regularization with logistic regression will be used for feature selection since it will help in reducing dimensionality of the data and help in faster convergence"
   ]
  },
  {
   "cell_type": "code",
   "execution_count": null,
   "id": "1f2b2631",
   "metadata": {
    "colab": {
     "base_uri": "https://localhost:8080/"
    },
    "id": "1f2b2631",
    "outputId": "f2976225-8eab-480b-e14b-26d6df6112fd"
   },
   "outputs": [
    {
     "name": "stdout",
     "output_type": "stream",
     "text": [
      "Number of selected features:  120\n"
     ]
    }
   ],
   "source": [
    "# Creating a Dataframe with feature names and feature importances\n",
    "imp=pd.DataFrame({'features':model.feature_names_in_,'feat_imp':np.ravel(model.coef_)})\n",
    "\n",
    "imp.sort_values(by='feat_imp',ascending=False,key=lambda x:abs(x),inplace=True)\n",
    "\n",
    "#Selecting variables having abs(feature importance) greater than 0.1\n",
    "selected_features=imp.loc[imp['feat_imp'].apply(lambda x:abs(x))>0.1].reset_index(drop=True)\n",
    "\n",
    "feat_list=list(selected_features['features'])\n",
    "print('Number of selected features: ',len(feat_list))\n",
    "\n"
   ]
  },
  {
   "cell_type": "code",
   "execution_count": null,
   "id": "a4750c0a",
   "metadata": {},
   "outputs": [],
   "source": [
    "# writing selected feature names to a file\n",
    "with open('selected_features.txt','w+') as f:\n",
    "    for feat in feat_list:\n",
    "        f.write(feat+'\\n')"
   ]
  },
  {
   "cell_type": "code",
   "execution_count": 34,
   "id": "B78lU1Nh7kBM",
   "metadata": {
    "id": "B78lU1Nh7kBM"
   },
   "outputs": [],
   "source": [
    "# retrieving selected features from a file\n",
    "with open('selected_features.txt','r') as f:\n",
    "    flist=f.read()\n",
    "    \n",
    "feat_list=flist.split('\\n')\n",
    "feat_list=[x for x in feat_list if x!='']"
   ]
  },
  {
   "cell_type": "code",
   "execution_count": 35,
   "id": "GCczi4p47g2T",
   "metadata": {
    "id": "GCczi4p47g2T"
   },
   "outputs": [],
   "source": [
    "# Constructing training and test datasets  \n",
    "X_train1=X_train[feat_list]\n",
    "X_test1=X_test[feat_list]"
   ]
  },
  {
   "cell_type": "code",
   "execution_count": null,
   "id": "ad042657",
   "metadata": {
    "colab": {
     "base_uri": "https://localhost:8080/"
    },
    "id": "ad042657",
    "outputId": "a67cace8-6947-4cab-fc91-7929932d627c"
   },
   "outputs": [
    {
     "name": "stdout",
     "output_type": "stream",
     "text": [
      "accuracy:  0.8313333333333334\n",
      "f1_score:  0.0739385065885798\n"
     ]
    }
   ],
   "source": [
    "# Fitting a new model with smaller number of features\n",
    "model2=LogisticRegression(max_iter=1000,solver='saga',penalty='l2',C=1)\n",
    "\n",
    "model2.fit(X_train1,y_train)\n",
    "print('accuracy: ',accuracy_score(y_test,model2.predict(X_test1)))\n",
    "print('f1_score: ',f1_score(y_test,model2.predict(X_test1)))"
   ]
  },
  {
   "cell_type": "markdown",
   "id": "79c3f2e3",
   "metadata": {
    "id": "79c3f2e3"
   },
   "source": [
    "It can be seen that the model with 120 features performs marginally better than the baseline dummy classifier with 203 features. But reduction in dimensionality has been achieved."
   ]
  },
  {
   "cell_type": "markdown",
   "id": "86899010",
   "metadata": {
    "id": "86899010"
   },
   "source": [
    "<h4>RandomForest Classifier</h4>"
   ]
  },
  {
   "cell_type": "code",
   "execution_count": null,
   "id": "2ab2b4fd",
   "metadata": {
    "colab": {
     "base_uri": "https://localhost:8080/"
    },
    "id": "2ab2b4fd",
    "outputId": "de1bf15d-d551-4dde-f32f-6dae1770069e"
   },
   "outputs": [
    {
     "name": "stdout",
     "output_type": "stream",
     "text": [
      "accuracy:  0.7963333333333333\n",
      "f1_score:  0.3224661787536039\n"
     ]
    }
   ],
   "source": [
    "# Simple RandomForest Classifier\n",
    "rf=RandomForestClassifier(random_state=42,class_weight={0:0.3,1:0.7})\n",
    "rf.fit(X_train1,y_train)\n",
    "\n",
    "print('accuracy: ',accuracy_score(y_test,rf.predict(X_test1)))\n",
    "print('f1_score: ',f1_score(y_test,rf.predict(X_test1)))"
   ]
  },
  {
   "cell_type": "code",
   "execution_count": null,
   "id": "36812b9f",
   "metadata": {
    "colab": {
     "base_uri": "https://localhost:8080/"
    },
    "id": "36812b9f",
    "outputId": "d2be9040-b175-4013-9540-ca6c079dcb0d"
   },
   "outputs": [
    {
     "name": "stdout",
     "output_type": "stream",
     "text": [
      "795.1316075325012\n"
     ]
    }
   ],
   "source": [
    "# Parameter optimization for random Forest\n",
    "start=time()\n",
    "params={\n",
    "    'n_estimators':[300],\n",
    "    'max_depth':[20,40,60],\n",
    "    'min_samples_split':[1,2,4],\n",
    "    'min_samples_leaf':[1,7]\n",
    "    }\n",
    "\n",
    "grid_rf=GridSearchCV(rf,param_grid=params,scoring=['accuracy','f1'],cv=3,refit='f1')\n",
    "grid_rf.fit(X_train1,y_train)\n",
    "\n",
    "print(time()-start)"
   ]
  },
  {
   "cell_type": "code",
   "execution_count": null,
   "id": "80e7f2ea",
   "metadata": {
    "colab": {
     "base_uri": "https://localhost:8080/"
    },
    "id": "80e7f2ea",
    "outputId": "4fbab2d9-2e0c-4b0e-9ed5-45c524467aa7"
   },
   "outputs": [
    {
     "data": {
      "text/plain": [
       "{'max_depth': 20,\n",
       " 'min_samples_leaf': 1,\n",
       " 'min_samples_split': 4,\n",
       " 'n_estimators': 300}"
      ]
     },
     "execution_count": 23,
     "metadata": {},
     "output_type": "execute_result"
    }
   ],
   "source": [
    "grid_rf.best_params_"
   ]
  },
  {
   "cell_type": "code",
   "execution_count": null,
   "id": "7590e192",
   "metadata": {
    "colab": {
     "base_uri": "https://localhost:8080/"
    },
    "id": "7590e192",
    "outputId": "77202093-5135-4c8e-defd-f8b7d3a6e6c8"
   },
   "outputs": [
    {
     "name": "stdout",
     "output_type": "stream",
     "text": [
      "accuracy:  0.8129333333333333\n",
      "f1_score:  0.2841836734693878\n"
     ]
    }
   ],
   "source": [
    "print('accuracy: ',accuracy_score(y_test,grid_rf.predict(X_test1)))\n",
    "print('f1_score: ',f1_score(y_test,grid_rf.predict(X_test1)))"
   ]
  },
  {
   "cell_type": "code",
   "execution_count": null,
   "id": "b2a54f71",
   "metadata": {
    "colab": {
     "base_uri": "https://localhost:8080/"
    },
    "id": "b2a54f71",
    "outputId": "0251759e-e2c5-429a-c128-469826359e02"
   },
   "outputs": [
    {
     "data": {
      "text/plain": [
       "{'bootstrap': True,\n",
       " 'ccp_alpha': 0.0,\n",
       " 'class_weight': {0: 0.3, 1: 0.7},\n",
       " 'criterion': 'gini',\n",
       " 'max_depth': None,\n",
       " 'max_features': 'auto',\n",
       " 'max_leaf_nodes': None,\n",
       " 'max_samples': None,\n",
       " 'min_impurity_decrease': 0.0,\n",
       " 'min_samples_leaf': 1,\n",
       " 'min_samples_split': 2,\n",
       " 'min_weight_fraction_leaf': 0.0,\n",
       " 'n_estimators': 100,\n",
       " 'n_jobs': None,\n",
       " 'oob_score': False,\n",
       " 'random_state': 42,\n",
       " 'verbose': 0,\n",
       " 'warm_start': False}"
      ]
     },
     "execution_count": 25,
     "metadata": {},
     "output_type": "execute_result"
    }
   ],
   "source": [
    "rf.get_params()"
   ]
  },
  {
   "cell_type": "code",
   "execution_count": 89,
   "id": "_qDY4vCARbtF",
   "metadata": {
    "colab": {
     "base_uri": "https://localhost:8080/"
    },
    "id": "_qDY4vCARbtF",
    "outputId": "220331e4-c591-4e6e-b41c-12e61a08c445"
   },
   "outputs": [
    {
     "name": "stdout",
     "output_type": "stream",
     "text": [
      "[1]\tvalid_0's binary_logloss: 0.508835\n",
      "Training until validation scores don't improve for 50 rounds.\n",
      "[2]\tvalid_0's binary_logloss: 0.503109\n",
      "[3]\tvalid_0's binary_logloss: 0.498454\n",
      "[4]\tvalid_0's binary_logloss: 0.494663\n",
      "[5]\tvalid_0's binary_logloss: 0.491454\n",
      "[6]\tvalid_0's binary_logloss: 0.488874\n",
      "[7]\tvalid_0's binary_logloss: 0.486606\n",
      "[8]\tvalid_0's binary_logloss: 0.484735\n",
      "[9]\tvalid_0's binary_logloss: 0.483172\n",
      "[10]\tvalid_0's binary_logloss: 0.481863\n",
      "[11]\tvalid_0's binary_logloss: 0.480703\n",
      "[12]\tvalid_0's binary_logloss: 0.479566\n",
      "[13]\tvalid_0's binary_logloss: 0.478675\n",
      "[14]\tvalid_0's binary_logloss: 0.47783\n",
      "[15]\tvalid_0's binary_logloss: 0.477006\n",
      "[16]\tvalid_0's binary_logloss: 0.476396\n",
      "[17]\tvalid_0's binary_logloss: 0.47588\n",
      "[18]\tvalid_0's binary_logloss: 0.475429\n",
      "[19]\tvalid_0's binary_logloss: 0.475016\n",
      "[20]\tvalid_0's binary_logloss: 0.474591\n",
      "[21]\tvalid_0's binary_logloss: 0.474304\n",
      "[22]\tvalid_0's binary_logloss: 0.474039\n",
      "[23]\tvalid_0's binary_logloss: 0.473752\n",
      "[24]\tvalid_0's binary_logloss: 0.473432\n",
      "[25]\tvalid_0's binary_logloss: 0.473189\n",
      "[26]\tvalid_0's binary_logloss: 0.473007\n",
      "[27]\tvalid_0's binary_logloss: 0.472863\n",
      "[28]\tvalid_0's binary_logloss: 0.472509\n",
      "[29]\tvalid_0's binary_logloss: 0.472329\n",
      "[30]\tvalid_0's binary_logloss: 0.472251\n",
      "[31]\tvalid_0's binary_logloss: 0.472106\n",
      "[32]\tvalid_0's binary_logloss: 0.471972\n",
      "[33]\tvalid_0's binary_logloss: 0.471878\n",
      "[34]\tvalid_0's binary_logloss: 0.471785\n",
      "[35]\tvalid_0's binary_logloss: 0.47167\n",
      "[36]\tvalid_0's binary_logloss: 0.471543\n",
      "[37]\tvalid_0's binary_logloss: 0.471433\n",
      "[38]\tvalid_0's binary_logloss: 0.471364\n",
      "[39]\tvalid_0's binary_logloss: 0.471317\n",
      "[40]\tvalid_0's binary_logloss: 0.471199\n",
      "[41]\tvalid_0's binary_logloss: 0.471083\n",
      "[42]\tvalid_0's binary_logloss: 0.471039\n",
      "[43]\tvalid_0's binary_logloss: 0.470955\n",
      "[44]\tvalid_0's binary_logloss: 0.470811\n",
      "[45]\tvalid_0's binary_logloss: 0.470759\n",
      "[46]\tvalid_0's binary_logloss: 0.47067\n",
      "[47]\tvalid_0's binary_logloss: 0.470602\n",
      "[48]\tvalid_0's binary_logloss: 0.470572\n",
      "[49]\tvalid_0's binary_logloss: 0.470495\n",
      "[50]\tvalid_0's binary_logloss: 0.47044\n",
      "[51]\tvalid_0's binary_logloss: 0.47032\n",
      "[52]\tvalid_0's binary_logloss: 0.470215\n",
      "[53]\tvalid_0's binary_logloss: 0.47018\n",
      "[54]\tvalid_0's binary_logloss: 0.470146\n",
      "[55]\tvalid_0's binary_logloss: 0.470123\n",
      "[56]\tvalid_0's binary_logloss: 0.470058\n",
      "[57]\tvalid_0's binary_logloss: 0.469992\n",
      "[58]\tvalid_0's binary_logloss: 0.469953\n",
      "[59]\tvalid_0's binary_logloss: 0.46994\n",
      "[60]\tvalid_0's binary_logloss: 0.469885\n",
      "[61]\tvalid_0's binary_logloss: 0.469838\n",
      "[62]\tvalid_0's binary_logloss: 0.469799\n",
      "[63]\tvalid_0's binary_logloss: 0.469761\n",
      "[64]\tvalid_0's binary_logloss: 0.469704\n",
      "[65]\tvalid_0's binary_logloss: 0.469545\n",
      "[66]\tvalid_0's binary_logloss: 0.469496\n",
      "[67]\tvalid_0's binary_logloss: 0.469389\n",
      "[68]\tvalid_0's binary_logloss: 0.469368\n",
      "[69]\tvalid_0's binary_logloss: 0.469338\n",
      "[70]\tvalid_0's binary_logloss: 0.469269\n",
      "[71]\tvalid_0's binary_logloss: 0.469291\n",
      "[72]\tvalid_0's binary_logloss: 0.469265\n",
      "[73]\tvalid_0's binary_logloss: 0.469224\n",
      "[74]\tvalid_0's binary_logloss: 0.469228\n",
      "[75]\tvalid_0's binary_logloss: 0.469168\n",
      "[76]\tvalid_0's binary_logloss: 0.46915\n",
      "[77]\tvalid_0's binary_logloss: 0.469128\n",
      "[78]\tvalid_0's binary_logloss: 0.469116\n",
      "[79]\tvalid_0's binary_logloss: 0.469068\n",
      "[80]\tvalid_0's binary_logloss: 0.469081\n",
      "[81]\tvalid_0's binary_logloss: 0.469046\n",
      "[82]\tvalid_0's binary_logloss: 0.469022\n",
      "[83]\tvalid_0's binary_logloss: 0.469036\n",
      "[84]\tvalid_0's binary_logloss: 0.469024\n",
      "[85]\tvalid_0's binary_logloss: 0.469009\n",
      "[86]\tvalid_0's binary_logloss: 0.469015\n",
      "[87]\tvalid_0's binary_logloss: 0.468926\n",
      "[88]\tvalid_0's binary_logloss: 0.468891\n",
      "[89]\tvalid_0's binary_logloss: 0.468872\n",
      "[90]\tvalid_0's binary_logloss: 0.468844\n",
      "[91]\tvalid_0's binary_logloss: 0.468844\n",
      "[92]\tvalid_0's binary_logloss: 0.468837\n",
      "[93]\tvalid_0's binary_logloss: 0.468838\n",
      "[94]\tvalid_0's binary_logloss: 0.46885\n",
      "[95]\tvalid_0's binary_logloss: 0.468836\n",
      "[96]\tvalid_0's binary_logloss: 0.46885\n",
      "[97]\tvalid_0's binary_logloss: 0.468805\n",
      "[98]\tvalid_0's binary_logloss: 0.468808\n",
      "[99]\tvalid_0's binary_logloss: 0.468797\n",
      "[100]\tvalid_0's binary_logloss: 0.468805\n",
      "[101]\tvalid_0's binary_logloss: 0.468741\n",
      "[102]\tvalid_0's binary_logloss: 0.468676\n",
      "[103]\tvalid_0's binary_logloss: 0.468683\n",
      "[104]\tvalid_0's binary_logloss: 0.468711\n",
      "[105]\tvalid_0's binary_logloss: 0.468727\n",
      "[106]\tvalid_0's binary_logloss: 0.468723\n",
      "[107]\tvalid_0's binary_logloss: 0.468682\n",
      "[108]\tvalid_0's binary_logloss: 0.468682\n",
      "[109]\tvalid_0's binary_logloss: 0.468662\n",
      "[110]\tvalid_0's binary_logloss: 0.46863\n",
      "[111]\tvalid_0's binary_logloss: 0.468608\n",
      "[112]\tvalid_0's binary_logloss: 0.468631\n",
      "[113]\tvalid_0's binary_logloss: 0.46863\n",
      "[114]\tvalid_0's binary_logloss: 0.468654\n",
      "[115]\tvalid_0's binary_logloss: 0.468652\n",
      "[116]\tvalid_0's binary_logloss: 0.468601\n",
      "[117]\tvalid_0's binary_logloss: 0.468592\n",
      "[118]\tvalid_0's binary_logloss: 0.468583\n",
      "[119]\tvalid_0's binary_logloss: 0.468564\n",
      "[120]\tvalid_0's binary_logloss: 0.468527\n",
      "[121]\tvalid_0's binary_logloss: 0.468555\n",
      "[122]\tvalid_0's binary_logloss: 0.468555\n",
      "[123]\tvalid_0's binary_logloss: 0.468582\n",
      "[124]\tvalid_0's binary_logloss: 0.468543\n",
      "[125]\tvalid_0's binary_logloss: 0.468533\n",
      "[126]\tvalid_0's binary_logloss: 0.468548\n",
      "[127]\tvalid_0's binary_logloss: 0.468551\n",
      "[128]\tvalid_0's binary_logloss: 0.468528\n",
      "[129]\tvalid_0's binary_logloss: 0.468522\n",
      "[130]\tvalid_0's binary_logloss: 0.468495\n",
      "[131]\tvalid_0's binary_logloss: 0.46846\n",
      "[132]\tvalid_0's binary_logloss: 0.468439\n",
      "[133]\tvalid_0's binary_logloss: 0.468445\n",
      "[134]\tvalid_0's binary_logloss: 0.468455\n",
      "[135]\tvalid_0's binary_logloss: 0.468446\n",
      "[136]\tvalid_0's binary_logloss: 0.468415\n",
      "[137]\tvalid_0's binary_logloss: 0.468395\n",
      "[138]\tvalid_0's binary_logloss: 0.468407\n",
      "[139]\tvalid_0's binary_logloss: 0.46838\n",
      "[140]\tvalid_0's binary_logloss: 0.468374\n",
      "[141]\tvalid_0's binary_logloss: 0.46838\n",
      "[142]\tvalid_0's binary_logloss: 0.468399\n",
      "[143]\tvalid_0's binary_logloss: 0.468386\n",
      "[144]\tvalid_0's binary_logloss: 0.468364\n",
      "[145]\tvalid_0's binary_logloss: 0.468262\n",
      "[146]\tvalid_0's binary_logloss: 0.468302\n",
      "[147]\tvalid_0's binary_logloss: 0.468297\n",
      "[148]\tvalid_0's binary_logloss: 0.468277\n",
      "[149]\tvalid_0's binary_logloss: 0.468287\n",
      "[150]\tvalid_0's binary_logloss: 0.468282\n",
      "[151]\tvalid_0's binary_logloss: 0.468284\n",
      "[152]\tvalid_0's binary_logloss: 0.468284\n",
      "[153]\tvalid_0's binary_logloss: 0.468251\n",
      "[154]\tvalid_0's binary_logloss: 0.468255\n",
      "[155]\tvalid_0's binary_logloss: 0.468202\n",
      "[156]\tvalid_0's binary_logloss: 0.468203\n",
      "[157]\tvalid_0's binary_logloss: 0.468211\n",
      "[158]\tvalid_0's binary_logloss: 0.468187\n",
      "[159]\tvalid_0's binary_logloss: 0.46819\n",
      "[160]\tvalid_0's binary_logloss: 0.468194\n",
      "[161]\tvalid_0's binary_logloss: 0.468208\n",
      "[162]\tvalid_0's binary_logloss: 0.468254\n",
      "[163]\tvalid_0's binary_logloss: 0.468245\n",
      "[164]\tvalid_0's binary_logloss: 0.468239\n",
      "[165]\tvalid_0's binary_logloss: 0.468222\n",
      "[166]\tvalid_0's binary_logloss: 0.468219\n",
      "[167]\tvalid_0's binary_logloss: 0.468219\n",
      "[168]\tvalid_0's binary_logloss: 0.468222\n",
      "[169]\tvalid_0's binary_logloss: 0.468214\n",
      "[170]\tvalid_0's binary_logloss: 0.468205\n",
      "[171]\tvalid_0's binary_logloss: 0.468201\n",
      "[172]\tvalid_0's binary_logloss: 0.468203\n",
      "[173]\tvalid_0's binary_logloss: 0.468187\n",
      "[174]\tvalid_0's binary_logloss: 0.468195\n",
      "[175]\tvalid_0's binary_logloss: 0.468215\n",
      "[176]\tvalid_0's binary_logloss: 0.46821\n",
      "[177]\tvalid_0's binary_logloss: 0.468243\n",
      "[178]\tvalid_0's binary_logloss: 0.468265\n",
      "[179]\tvalid_0's binary_logloss: 0.468285\n",
      "[180]\tvalid_0's binary_logloss: 0.46828\n",
      "[181]\tvalid_0's binary_logloss: 0.468309\n",
      "[182]\tvalid_0's binary_logloss: 0.468308\n",
      "[183]\tvalid_0's binary_logloss: 0.468322\n",
      "[184]\tvalid_0's binary_logloss: 0.468352\n",
      "[185]\tvalid_0's binary_logloss: 0.468339\n",
      "[186]\tvalid_0's binary_logloss: 0.468328\n",
      "[187]\tvalid_0's binary_logloss: 0.468336\n",
      "[188]\tvalid_0's binary_logloss: 0.468351\n",
      "[189]\tvalid_0's binary_logloss: 0.46837\n",
      "[190]\tvalid_0's binary_logloss: 0.468369\n",
      "[191]\tvalid_0's binary_logloss: 0.468399\n",
      "[192]\tvalid_0's binary_logloss: 0.468411\n",
      "[193]\tvalid_0's binary_logloss: 0.468425\n",
      "[194]\tvalid_0's binary_logloss: 0.468424\n",
      "[195]\tvalid_0's binary_logloss: 0.468398\n",
      "[196]\tvalid_0's binary_logloss: 0.468395\n",
      "[197]\tvalid_0's binary_logloss: 0.468419\n",
      "[198]\tvalid_0's binary_logloss: 0.468439\n",
      "[199]\tvalid_0's binary_logloss: 0.468455\n",
      "[200]\tvalid_0's binary_logloss: 0.468477\n",
      "Did not meet early stopping. Best iteration is:\n",
      "[173]\tvalid_0's binary_logloss: 0.468187\n",
      "------------------------------------------------------------\n",
      "accuracy:  0.8067666666666666\n",
      "f1_score:  0.3106195742656678\n"
     ]
    }
   ],
   "source": [
    "from lightgbm.callback import early_stopping\n",
    "lgbc=lgb.LGBMClassifier(class_weight={0:0.3,1:0.7},\n",
    "                        num_iterations=200,\n",
    "                        objective='binary',\n",
    "                        metric='binary_logloss',\n",
    "                        num_boost_round=4000,\n",
    "                        early_stopping=50\n",
    "                        )\n",
    "lgbc.fit(X_train1,y_train,eval_set=(X_test1,y_test))\n",
    "\n",
    "print('--'*30)\n",
    "print('accuracy: ',accuracy_score(y_test,lgbc.predict(X_test1)))\n",
    "print('f1_score: ',f1_score(y_test,lgbc.predict(X_test1)))"
   ]
  },
  {
   "cell_type": "code",
   "execution_count": 90,
   "id": "5yhn351g8Q9r",
   "metadata": {
    "colab": {
     "base_uri": "https://localhost:8080/"
    },
    "id": "5yhn351g8Q9r",
    "outputId": "c98c6b9e-ef10-44a8-d9fb-583fb8552f51"
   },
   "outputs": [
    {
     "name": "stdout",
     "output_type": "stream",
     "text": [
      "[1]\tvalid_0's binary_logloss: 0.511687\n",
      "Training until validation scores don't improve for 50 rounds.\n",
      "[2]\tvalid_0's binary_logloss: 0.50726\n",
      "[3]\tvalid_0's binary_logloss: 0.504143\n",
      "[4]\tvalid_0's binary_logloss: 0.501132\n",
      "[5]\tvalid_0's binary_logloss: 0.498812\n",
      "[6]\tvalid_0's binary_logloss: 0.49587\n",
      "[7]\tvalid_0's binary_logloss: 0.49414\n",
      "[8]\tvalid_0's binary_logloss: 0.492341\n",
      "[9]\tvalid_0's binary_logloss: 0.490595\n",
      "[10]\tvalid_0's binary_logloss: 0.489422\n",
      "[11]\tvalid_0's binary_logloss: 0.488197\n",
      "[12]\tvalid_0's binary_logloss: 0.486851\n",
      "[13]\tvalid_0's binary_logloss: 0.485351\n",
      "[14]\tvalid_0's binary_logloss: 0.484777\n",
      "[15]\tvalid_0's binary_logloss: 0.484108\n",
      "[16]\tvalid_0's binary_logloss: 0.483164\n",
      "[17]\tvalid_0's binary_logloss: 0.482646\n",
      "[18]\tvalid_0's binary_logloss: 0.481932\n",
      "[19]\tvalid_0's binary_logloss: 0.481312\n",
      "[20]\tvalid_0's binary_logloss: 0.480739\n",
      "[21]\tvalid_0's binary_logloss: 0.480495\n",
      "[22]\tvalid_0's binary_logloss: 0.480036\n",
      "[23]\tvalid_0's binary_logloss: 0.479796\n",
      "[24]\tvalid_0's binary_logloss: 0.479332\n",
      "[25]\tvalid_0's binary_logloss: 0.478902\n",
      "[26]\tvalid_0's binary_logloss: 0.478446\n",
      "[27]\tvalid_0's binary_logloss: 0.47814\n",
      "[28]\tvalid_0's binary_logloss: 0.477945\n",
      "[29]\tvalid_0's binary_logloss: 0.477704\n",
      "[30]\tvalid_0's binary_logloss: 0.477347\n",
      "[31]\tvalid_0's binary_logloss: 0.477191\n",
      "[32]\tvalid_0's binary_logloss: 0.476968\n",
      "[33]\tvalid_0's binary_logloss: 0.476663\n",
      "[34]\tvalid_0's binary_logloss: 0.476441\n",
      "[35]\tvalid_0's binary_logloss: 0.476234\n",
      "[36]\tvalid_0's binary_logloss: 0.476183\n",
      "[37]\tvalid_0's binary_logloss: 0.475994\n",
      "[38]\tvalid_0's binary_logloss: 0.475738\n",
      "[39]\tvalid_0's binary_logloss: 0.475607\n",
      "[40]\tvalid_0's binary_logloss: 0.475483\n",
      "[41]\tvalid_0's binary_logloss: 0.47533\n",
      "[42]\tvalid_0's binary_logloss: 0.475288\n",
      "[43]\tvalid_0's binary_logloss: 0.475182\n",
      "[44]\tvalid_0's binary_logloss: 0.475153\n",
      "[45]\tvalid_0's binary_logloss: 0.475087\n",
      "[46]\tvalid_0's binary_logloss: 0.474983\n",
      "[47]\tvalid_0's binary_logloss: 0.474823\n",
      "[48]\tvalid_0's binary_logloss: 0.474705\n",
      "[49]\tvalid_0's binary_logloss: 0.474629\n",
      "[50]\tvalid_0's binary_logloss: 0.474583\n",
      "[51]\tvalid_0's binary_logloss: 0.47449\n",
      "[52]\tvalid_0's binary_logloss: 0.47448\n",
      "[53]\tvalid_0's binary_logloss: 0.474443\n",
      "[54]\tvalid_0's binary_logloss: 0.47443\n",
      "[55]\tvalid_0's binary_logloss: 0.474337\n",
      "[56]\tvalid_0's binary_logloss: 0.474283\n",
      "[57]\tvalid_0's binary_logloss: 0.474207\n",
      "[58]\tvalid_0's binary_logloss: 0.47409\n",
      "[59]\tvalid_0's binary_logloss: 0.474047\n",
      "[60]\tvalid_0's binary_logloss: 0.474029\n",
      "[61]\tvalid_0's binary_logloss: 0.473949\n",
      "[62]\tvalid_0's binary_logloss: 0.473938\n",
      "[63]\tvalid_0's binary_logloss: 0.473938\n",
      "[64]\tvalid_0's binary_logloss: 0.473907\n",
      "[65]\tvalid_0's binary_logloss: 0.473865\n",
      "[66]\tvalid_0's binary_logloss: 0.473768\n",
      "[67]\tvalid_0's binary_logloss: 0.473734\n",
      "[68]\tvalid_0's binary_logloss: 0.4737\n",
      "[69]\tvalid_0's binary_logloss: 0.473627\n",
      "[70]\tvalid_0's binary_logloss: 0.473605\n",
      "[71]\tvalid_0's binary_logloss: 0.473599\n",
      "[72]\tvalid_0's binary_logloss: 0.473551\n",
      "[73]\tvalid_0's binary_logloss: 0.473488\n",
      "[74]\tvalid_0's binary_logloss: 0.473411\n",
      "[75]\tvalid_0's binary_logloss: 0.473392\n",
      "[76]\tvalid_0's binary_logloss: 0.473375\n",
      "[77]\tvalid_0's binary_logloss: 0.473357\n",
      "[78]\tvalid_0's binary_logloss: 0.473363\n",
      "[79]\tvalid_0's binary_logloss: 0.473334\n",
      "[80]\tvalid_0's binary_logloss: 0.473326\n",
      "[81]\tvalid_0's binary_logloss: 0.47332\n",
      "[82]\tvalid_0's binary_logloss: 0.473299\n",
      "[83]\tvalid_0's binary_logloss: 0.473276\n",
      "[84]\tvalid_0's binary_logloss: 0.473265\n",
      "[85]\tvalid_0's binary_logloss: 0.473256\n",
      "[86]\tvalid_0's binary_logloss: 0.473262\n",
      "[87]\tvalid_0's binary_logloss: 0.473239\n",
      "[88]\tvalid_0's binary_logloss: 0.473236\n",
      "[89]\tvalid_0's binary_logloss: 0.47321\n",
      "[90]\tvalid_0's binary_logloss: 0.473207\n",
      "[91]\tvalid_0's binary_logloss: 0.473186\n",
      "[92]\tvalid_0's binary_logloss: 0.473172\n",
      "[93]\tvalid_0's binary_logloss: 0.47313\n",
      "[94]\tvalid_0's binary_logloss: 0.473119\n",
      "[95]\tvalid_0's binary_logloss: 0.473114\n",
      "[96]\tvalid_0's binary_logloss: 0.473114\n",
      "[97]\tvalid_0's binary_logloss: 0.473114\n",
      "[98]\tvalid_0's binary_logloss: 0.473115\n",
      "[99]\tvalid_0's binary_logloss: 0.473114\n",
      "[100]\tvalid_0's binary_logloss: 0.47311\n",
      "[101]\tvalid_0's binary_logloss: 0.473082\n",
      "[102]\tvalid_0's binary_logloss: 0.473075\n",
      "[103]\tvalid_0's binary_logloss: 0.473078\n",
      "[104]\tvalid_0's binary_logloss: 0.473077\n",
      "[105]\tvalid_0's binary_logloss: 0.473077\n",
      "[106]\tvalid_0's binary_logloss: 0.473077\n",
      "[107]\tvalid_0's binary_logloss: 0.473077\n",
      "[108]\tvalid_0's binary_logloss: 0.473081\n",
      "[109]\tvalid_0's binary_logloss: 0.47308\n",
      "[110]\tvalid_0's binary_logloss: 0.473076\n",
      "[111]\tvalid_0's binary_logloss: 0.473075\n",
      "[112]\tvalid_0's binary_logloss: 0.473075\n",
      "[113]\tvalid_0's binary_logloss: 0.473075\n",
      "[114]\tvalid_0's binary_logloss: 0.473073\n",
      "[115]\tvalid_0's binary_logloss: 0.473072\n",
      "[116]\tvalid_0's binary_logloss: 0.47307\n",
      "[117]\tvalid_0's binary_logloss: 0.473066\n",
      "[118]\tvalid_0's binary_logloss: 0.473067\n",
      "[119]\tvalid_0's binary_logloss: 0.473064\n",
      "[120]\tvalid_0's binary_logloss: 0.473063\n",
      "[121]\tvalid_0's binary_logloss: 0.473065\n",
      "[122]\tvalid_0's binary_logloss: 0.473065\n",
      "[123]\tvalid_0's binary_logloss: 0.473061\n",
      "[124]\tvalid_0's binary_logloss: 0.473061\n",
      "[125]\tvalid_0's binary_logloss: 0.473059\n",
      "[126]\tvalid_0's binary_logloss: 0.473059\n",
      "[127]\tvalid_0's binary_logloss: 0.473059\n",
      "[128]\tvalid_0's binary_logloss: 0.473059\n",
      "[129]\tvalid_0's binary_logloss: 0.473059\n",
      "[130]\tvalid_0's binary_logloss: 0.473059\n",
      "[131]\tvalid_0's binary_logloss: 0.473059\n",
      "[132]\tvalid_0's binary_logloss: 0.473059\n",
      "[133]\tvalid_0's binary_logloss: 0.473059\n",
      "[134]\tvalid_0's binary_logloss: 0.473059\n",
      "[135]\tvalid_0's binary_logloss: 0.473059\n",
      "[136]\tvalid_0's binary_logloss: 0.473059\n",
      "[137]\tvalid_0's binary_logloss: 0.473059\n",
      "[138]\tvalid_0's binary_logloss: 0.473059\n",
      "[139]\tvalid_0's binary_logloss: 0.473059\n",
      "[140]\tvalid_0's binary_logloss: 0.473059\n",
      "[141]\tvalid_0's binary_logloss: 0.473059\n",
      "[142]\tvalid_0's binary_logloss: 0.473059\n",
      "[143]\tvalid_0's binary_logloss: 0.473059\n",
      "[144]\tvalid_0's binary_logloss: 0.473059\n",
      "[145]\tvalid_0's binary_logloss: 0.473059\n",
      "[146]\tvalid_0's binary_logloss: 0.473059\n",
      "[147]\tvalid_0's binary_logloss: 0.473059\n",
      "[148]\tvalid_0's binary_logloss: 0.473059\n",
      "[149]\tvalid_0's binary_logloss: 0.473059\n",
      "[150]\tvalid_0's binary_logloss: 0.473059\n",
      "[151]\tvalid_0's binary_logloss: 0.473059\n",
      "[152]\tvalid_0's binary_logloss: 0.473059\n",
      "[153]\tvalid_0's binary_logloss: 0.473059\n",
      "[154]\tvalid_0's binary_logloss: 0.473059\n",
      "[155]\tvalid_0's binary_logloss: 0.473059\n",
      "[156]\tvalid_0's binary_logloss: 0.473059\n",
      "[157]\tvalid_0's binary_logloss: 0.473059\n",
      "[158]\tvalid_0's binary_logloss: 0.473059\n",
      "[159]\tvalid_0's binary_logloss: 0.473059\n",
      "[160]\tvalid_0's binary_logloss: 0.473059\n",
      "[161]\tvalid_0's binary_logloss: 0.473059\n",
      "[162]\tvalid_0's binary_logloss: 0.473059\n",
      "[163]\tvalid_0's binary_logloss: 0.473059\n",
      "[164]\tvalid_0's binary_logloss: 0.473059\n",
      "[165]\tvalid_0's binary_logloss: 0.473059\n",
      "[166]\tvalid_0's binary_logloss: 0.473059\n",
      "[167]\tvalid_0's binary_logloss: 0.473059\n",
      "[168]\tvalid_0's binary_logloss: 0.473059\n",
      "[169]\tvalid_0's binary_logloss: 0.473059\n",
      "[170]\tvalid_0's binary_logloss: 0.473059\n",
      "[171]\tvalid_0's binary_logloss: 0.473059\n",
      "[172]\tvalid_0's binary_logloss: 0.473059\n",
      "[173]\tvalid_0's binary_logloss: 0.473059\n",
      "[174]\tvalid_0's binary_logloss: 0.473059\n",
      "[175]\tvalid_0's binary_logloss: 0.473059\n",
      "Early stopping, best iteration is:\n",
      "[125]\tvalid_0's binary_logloss: 0.473059\n",
      "[1]\tvalid_0's binary_logloss: 0.51163\n",
      "Training until validation scores don't improve for 50 rounds.\n",
      "[2]\tvalid_0's binary_logloss: 0.507156\n",
      "[3]\tvalid_0's binary_logloss: 0.50415\n",
      "[4]\tvalid_0's binary_logloss: 0.501161\n",
      "[5]\tvalid_0's binary_logloss: 0.498955\n",
      "[6]\tvalid_0's binary_logloss: 0.495951\n",
      "[7]\tvalid_0's binary_logloss: 0.494258\n",
      "[8]\tvalid_0's binary_logloss: 0.492437\n",
      "[9]\tvalid_0's binary_logloss: 0.490663\n",
      "[10]\tvalid_0's binary_logloss: 0.489417\n",
      "[11]\tvalid_0's binary_logloss: 0.487989\n",
      "[12]\tvalid_0's binary_logloss: 0.486766\n",
      "[13]\tvalid_0's binary_logloss: 0.485252\n",
      "[14]\tvalid_0's binary_logloss: 0.484745\n",
      "[15]\tvalid_0's binary_logloss: 0.484077\n",
      "[16]\tvalid_0's binary_logloss: 0.483161\n",
      "[17]\tvalid_0's binary_logloss: 0.482621\n",
      "[18]\tvalid_0's binary_logloss: 0.481875\n",
      "[19]\tvalid_0's binary_logloss: 0.481291\n",
      "[20]\tvalid_0's binary_logloss: 0.480814\n",
      "[21]\tvalid_0's binary_logloss: 0.480565\n",
      "[22]\tvalid_0's binary_logloss: 0.480033\n",
      "[23]\tvalid_0's binary_logloss: 0.479771\n",
      "[24]\tvalid_0's binary_logloss: 0.479316\n",
      "[25]\tvalid_0's binary_logloss: 0.478831\n",
      "[26]\tvalid_0's binary_logloss: 0.478413\n",
      "[27]\tvalid_0's binary_logloss: 0.4781\n",
      "[28]\tvalid_0's binary_logloss: 0.477867\n",
      "[29]\tvalid_0's binary_logloss: 0.477532\n",
      "[30]\tvalid_0's binary_logloss: 0.477203\n",
      "[31]\tvalid_0's binary_logloss: 0.476932\n",
      "[32]\tvalid_0's binary_logloss: 0.476707\n",
      "[33]\tvalid_0's binary_logloss: 0.476492\n",
      "[34]\tvalid_0's binary_logloss: 0.476297\n",
      "[35]\tvalid_0's binary_logloss: 0.476116\n",
      "[36]\tvalid_0's binary_logloss: 0.476031\n",
      "[37]\tvalid_0's binary_logloss: 0.475839\n",
      "[38]\tvalid_0's binary_logloss: 0.475615\n",
      "[39]\tvalid_0's binary_logloss: 0.475508\n",
      "[40]\tvalid_0's binary_logloss: 0.475375\n",
      "[41]\tvalid_0's binary_logloss: 0.475237\n",
      "[42]\tvalid_0's binary_logloss: 0.47519\n",
      "[43]\tvalid_0's binary_logloss: 0.475106\n",
      "[44]\tvalid_0's binary_logloss: 0.475117\n",
      "[45]\tvalid_0's binary_logloss: 0.475065\n",
      "[46]\tvalid_0's binary_logloss: 0.474934\n",
      "[47]\tvalid_0's binary_logloss: 0.474796\n",
      "[48]\tvalid_0's binary_logloss: 0.474699\n",
      "[49]\tvalid_0's binary_logloss: 0.474645\n",
      "[50]\tvalid_0's binary_logloss: 0.474598\n",
      "[51]\tvalid_0's binary_logloss: 0.474537\n",
      "[52]\tvalid_0's binary_logloss: 0.474537\n",
      "[53]\tvalid_0's binary_logloss: 0.474498\n",
      "[54]\tvalid_0's binary_logloss: 0.47444\n",
      "[55]\tvalid_0's binary_logloss: 0.474395\n",
      "[56]\tvalid_0's binary_logloss: 0.474334\n",
      "[57]\tvalid_0's binary_logloss: 0.474241\n",
      "[58]\tvalid_0's binary_logloss: 0.474169\n",
      "[59]\tvalid_0's binary_logloss: 0.474179\n",
      "[60]\tvalid_0's binary_logloss: 0.474164\n",
      "[61]\tvalid_0's binary_logloss: 0.474116\n",
      "[62]\tvalid_0's binary_logloss: 0.474107\n",
      "[63]\tvalid_0's binary_logloss: 0.474099\n",
      "[64]\tvalid_0's binary_logloss: 0.474067\n",
      "[65]\tvalid_0's binary_logloss: 0.474014\n",
      "[66]\tvalid_0's binary_logloss: 0.473968\n",
      "[67]\tvalid_0's binary_logloss: 0.473958\n",
      "[68]\tvalid_0's binary_logloss: 0.473963\n",
      "[69]\tvalid_0's binary_logloss: 0.473918\n",
      "[70]\tvalid_0's binary_logloss: 0.473885\n",
      "[71]\tvalid_0's binary_logloss: 0.47386\n",
      "[72]\tvalid_0's binary_logloss: 0.473863\n",
      "[73]\tvalid_0's binary_logloss: 0.473809\n",
      "[74]\tvalid_0's binary_logloss: 0.473736\n",
      "[75]\tvalid_0's binary_logloss: 0.473713\n",
      "[76]\tvalid_0's binary_logloss: 0.473728\n",
      "[77]\tvalid_0's binary_logloss: 0.47371\n",
      "[78]\tvalid_0's binary_logloss: 0.473699\n",
      "[79]\tvalid_0's binary_logloss: 0.473638\n",
      "[80]\tvalid_0's binary_logloss: 0.473629\n",
      "[81]\tvalid_0's binary_logloss: 0.473622\n",
      "[82]\tvalid_0's binary_logloss: 0.473614\n",
      "[83]\tvalid_0's binary_logloss: 0.473588\n",
      "[84]\tvalid_0's binary_logloss: 0.473576\n",
      "[85]\tvalid_0's binary_logloss: 0.473569\n",
      "[86]\tvalid_0's binary_logloss: 0.473554\n",
      "[87]\tvalid_0's binary_logloss: 0.473554\n",
      "[88]\tvalid_0's binary_logloss: 0.473549\n",
      "[89]\tvalid_0's binary_logloss: 0.473525\n",
      "[90]\tvalid_0's binary_logloss: 0.473518\n",
      "[91]\tvalid_0's binary_logloss: 0.473512\n",
      "[92]\tvalid_0's binary_logloss: 0.473509\n",
      "[93]\tvalid_0's binary_logloss: 0.473478\n",
      "[94]\tvalid_0's binary_logloss: 0.473458\n",
      "[95]\tvalid_0's binary_logloss: 0.473452\n",
      "[96]\tvalid_0's binary_logloss: 0.473455\n",
      "[97]\tvalid_0's binary_logloss: 0.473455\n",
      "[98]\tvalid_0's binary_logloss: 0.473456\n",
      "[99]\tvalid_0's binary_logloss: 0.473455\n",
      "[100]\tvalid_0's binary_logloss: 0.473453\n",
      "[101]\tvalid_0's binary_logloss: 0.473422\n",
      "[102]\tvalid_0's binary_logloss: 0.473416\n",
      "[103]\tvalid_0's binary_logloss: 0.473412\n",
      "[104]\tvalid_0's binary_logloss: 0.473382\n",
      "[105]\tvalid_0's binary_logloss: 0.473368\n",
      "[106]\tvalid_0's binary_logloss: 0.473366\n",
      "[107]\tvalid_0's binary_logloss: 0.473364\n",
      "[108]\tvalid_0's binary_logloss: 0.473364\n",
      "[109]\tvalid_0's binary_logloss: 0.473369\n",
      "[110]\tvalid_0's binary_logloss: 0.473364\n",
      "[111]\tvalid_0's binary_logloss: 0.473362\n",
      "[112]\tvalid_0's binary_logloss: 0.473369\n",
      "[113]\tvalid_0's binary_logloss: 0.473369\n",
      "[114]\tvalid_0's binary_logloss: 0.473365\n",
      "[115]\tvalid_0's binary_logloss: 0.473358\n",
      "[116]\tvalid_0's binary_logloss: 0.47336\n",
      "[117]\tvalid_0's binary_logloss: 0.473358\n",
      "[118]\tvalid_0's binary_logloss: 0.473359\n",
      "[119]\tvalid_0's binary_logloss: 0.473359\n",
      "[120]\tvalid_0's binary_logloss: 0.473359\n",
      "[121]\tvalid_0's binary_logloss: 0.473359\n",
      "[122]\tvalid_0's binary_logloss: 0.473359\n",
      "[123]\tvalid_0's binary_logloss: 0.473357\n",
      "[124]\tvalid_0's binary_logloss: 0.473356\n",
      "[125]\tvalid_0's binary_logloss: 0.473354\n",
      "[126]\tvalid_0's binary_logloss: 0.473353\n",
      "[127]\tvalid_0's binary_logloss: 0.473353\n",
      "[128]\tvalid_0's binary_logloss: 0.473341\n",
      "[129]\tvalid_0's binary_logloss: 0.473338\n",
      "[130]\tvalid_0's binary_logloss: 0.473341\n",
      "[131]\tvalid_0's binary_logloss: 0.473344\n",
      "[132]\tvalid_0's binary_logloss: 0.473344\n",
      "[133]\tvalid_0's binary_logloss: 0.473344\n",
      "[134]\tvalid_0's binary_logloss: 0.473342\n",
      "[135]\tvalid_0's binary_logloss: 0.47334\n",
      "[136]\tvalid_0's binary_logloss: 0.47334\n",
      "[137]\tvalid_0's binary_logloss: 0.47334\n",
      "[138]\tvalid_0's binary_logloss: 0.47334\n",
      "[139]\tvalid_0's binary_logloss: 0.47334\n",
      "[140]\tvalid_0's binary_logloss: 0.47334\n",
      "[141]\tvalid_0's binary_logloss: 0.473341\n",
      "[142]\tvalid_0's binary_logloss: 0.473342\n",
      "[143]\tvalid_0's binary_logloss: 0.473342\n",
      "[144]\tvalid_0's binary_logloss: 0.473342\n",
      "[145]\tvalid_0's binary_logloss: 0.473342\n",
      "[146]\tvalid_0's binary_logloss: 0.473342\n",
      "[147]\tvalid_0's binary_logloss: 0.473342\n",
      "[148]\tvalid_0's binary_logloss: 0.473342\n",
      "[149]\tvalid_0's binary_logloss: 0.473342\n",
      "[150]\tvalid_0's binary_logloss: 0.473342\n",
      "[151]\tvalid_0's binary_logloss: 0.473342\n",
      "[152]\tvalid_0's binary_logloss: 0.473342\n",
      "[153]\tvalid_0's binary_logloss: 0.473342\n",
      "[154]\tvalid_0's binary_logloss: 0.473342\n",
      "[155]\tvalid_0's binary_logloss: 0.473342\n",
      "[156]\tvalid_0's binary_logloss: 0.473342\n",
      "[157]\tvalid_0's binary_logloss: 0.473342\n",
      "[158]\tvalid_0's binary_logloss: 0.473342\n",
      "[159]\tvalid_0's binary_logloss: 0.473342\n",
      "[160]\tvalid_0's binary_logloss: 0.473342\n",
      "[161]\tvalid_0's binary_logloss: 0.473342\n",
      "[162]\tvalid_0's binary_logloss: 0.473342\n",
      "[163]\tvalid_0's binary_logloss: 0.473342\n",
      "[164]\tvalid_0's binary_logloss: 0.473342\n",
      "[165]\tvalid_0's binary_logloss: 0.473342\n",
      "[166]\tvalid_0's binary_logloss: 0.473342\n",
      "[167]\tvalid_0's binary_logloss: 0.473342\n",
      "[168]\tvalid_0's binary_logloss: 0.473342\n",
      "[169]\tvalid_0's binary_logloss: 0.473342\n",
      "[170]\tvalid_0's binary_logloss: 0.473342\n",
      "[171]\tvalid_0's binary_logloss: 0.473342\n",
      "[172]\tvalid_0's binary_logloss: 0.473342\n",
      "[173]\tvalid_0's binary_logloss: 0.473342\n",
      "[174]\tvalid_0's binary_logloss: 0.473342\n",
      "[175]\tvalid_0's binary_logloss: 0.473342\n",
      "[176]\tvalid_0's binary_logloss: 0.473342\n",
      "[177]\tvalid_0's binary_logloss: 0.473342\n",
      "[178]\tvalid_0's binary_logloss: 0.473342\n",
      "[179]\tvalid_0's binary_logloss: 0.473342\n",
      "Early stopping, best iteration is:\n",
      "[129]\tvalid_0's binary_logloss: 0.473338\n",
      "[1]\tvalid_0's binary_logloss: 0.511495\n",
      "Training until validation scores don't improve for 50 rounds.\n",
      "[2]\tvalid_0's binary_logloss: 0.507006\n",
      "[3]\tvalid_0's binary_logloss: 0.503833\n",
      "[4]\tvalid_0's binary_logloss: 0.500747\n",
      "[5]\tvalid_0's binary_logloss: 0.498597\n",
      "[6]\tvalid_0's binary_logloss: 0.495709\n",
      "[7]\tvalid_0's binary_logloss: 0.49397\n",
      "[8]\tvalid_0's binary_logloss: 0.492129\n",
      "[9]\tvalid_0's binary_logloss: 0.490272\n",
      "[10]\tvalid_0's binary_logloss: 0.488965\n",
      "[11]\tvalid_0's binary_logloss: 0.487681\n",
      "[12]\tvalid_0's binary_logloss: 0.486132\n",
      "[13]\tvalid_0's binary_logloss: 0.484747\n",
      "[14]\tvalid_0's binary_logloss: 0.484237\n",
      "[15]\tvalid_0's binary_logloss: 0.483546\n",
      "[16]\tvalid_0's binary_logloss: 0.482647\n",
      "[17]\tvalid_0's binary_logloss: 0.482155\n",
      "[18]\tvalid_0's binary_logloss: 0.481457\n",
      "[19]\tvalid_0's binary_logloss: 0.480906\n",
      "[20]\tvalid_0's binary_logloss: 0.480467\n",
      "[21]\tvalid_0's binary_logloss: 0.48022\n",
      "[22]\tvalid_0's binary_logloss: 0.479721\n",
      "[23]\tvalid_0's binary_logloss: 0.479487\n",
      "[24]\tvalid_0's binary_logloss: 0.479028\n",
      "[25]\tvalid_0's binary_logloss: 0.478592\n",
      "[26]\tvalid_0's binary_logloss: 0.478199\n",
      "[27]\tvalid_0's binary_logloss: 0.477906\n",
      "[28]\tvalid_0's binary_logloss: 0.477657\n",
      "[29]\tvalid_0's binary_logloss: 0.477444\n",
      "[30]\tvalid_0's binary_logloss: 0.477121\n",
      "[31]\tvalid_0's binary_logloss: 0.476991\n",
      "[32]\tvalid_0's binary_logloss: 0.476804\n",
      "[33]\tvalid_0's binary_logloss: 0.476561\n",
      "[34]\tvalid_0's binary_logloss: 0.476329\n",
      "[35]\tvalid_0's binary_logloss: 0.476131\n",
      "[36]\tvalid_0's binary_logloss: 0.476077\n",
      "[37]\tvalid_0's binary_logloss: 0.47591\n",
      "[38]\tvalid_0's binary_logloss: 0.475677\n",
      "[39]\tvalid_0's binary_logloss: 0.475565\n",
      "[40]\tvalid_0's binary_logloss: 0.475465\n",
      "[41]\tvalid_0's binary_logloss: 0.475314\n",
      "[42]\tvalid_0's binary_logloss: 0.475281\n",
      "[43]\tvalid_0's binary_logloss: 0.47517\n",
      "[44]\tvalid_0's binary_logloss: 0.475134\n",
      "[45]\tvalid_0's binary_logloss: 0.475108\n",
      "[46]\tvalid_0's binary_logloss: 0.474988\n",
      "[47]\tvalid_0's binary_logloss: 0.474854\n",
      "[48]\tvalid_0's binary_logloss: 0.474799\n",
      "[49]\tvalid_0's binary_logloss: 0.474756\n",
      "[50]\tvalid_0's binary_logloss: 0.474699\n",
      "[51]\tvalid_0's binary_logloss: 0.47462\n",
      "[52]\tvalid_0's binary_logloss: 0.474589\n",
      "[53]\tvalid_0's binary_logloss: 0.474554\n",
      "[54]\tvalid_0's binary_logloss: 0.474549\n",
      "[55]\tvalid_0's binary_logloss: 0.474442\n",
      "[56]\tvalid_0's binary_logloss: 0.474346\n",
      "[57]\tvalid_0's binary_logloss: 0.474214\n",
      "[58]\tvalid_0's binary_logloss: 0.474085\n",
      "[59]\tvalid_0's binary_logloss: 0.473992\n",
      "[60]\tvalid_0's binary_logloss: 0.473988\n",
      "[61]\tvalid_0's binary_logloss: 0.473948\n",
      "[62]\tvalid_0's binary_logloss: 0.473926\n",
      "[63]\tvalid_0's binary_logloss: 0.473916\n",
      "[64]\tvalid_0's binary_logloss: 0.473885\n",
      "[65]\tvalid_0's binary_logloss: 0.473847\n",
      "[66]\tvalid_0's binary_logloss: 0.47378\n",
      "[67]\tvalid_0's binary_logloss: 0.473754\n",
      "[68]\tvalid_0's binary_logloss: 0.473715\n",
      "[69]\tvalid_0's binary_logloss: 0.473658\n",
      "[70]\tvalid_0's binary_logloss: 0.473651\n",
      "[71]\tvalid_0's binary_logloss: 0.473645\n",
      "[72]\tvalid_0's binary_logloss: 0.47363\n",
      "[73]\tvalid_0's binary_logloss: 0.473572\n",
      "[74]\tvalid_0's binary_logloss: 0.473531\n",
      "[75]\tvalid_0's binary_logloss: 0.473523\n",
      "[76]\tvalid_0's binary_logloss: 0.473505\n",
      "[77]\tvalid_0's binary_logloss: 0.4735\n",
      "[78]\tvalid_0's binary_logloss: 0.473496\n",
      "[79]\tvalid_0's binary_logloss: 0.473485\n",
      "[80]\tvalid_0's binary_logloss: 0.473483\n",
      "[81]\tvalid_0's binary_logloss: 0.473484\n",
      "[82]\tvalid_0's binary_logloss: 0.473466\n",
      "[83]\tvalid_0's binary_logloss: 0.47345\n",
      "[84]\tvalid_0's binary_logloss: 0.473446\n",
      "[85]\tvalid_0's binary_logloss: 0.47344\n",
      "[86]\tvalid_0's binary_logloss: 0.473429\n",
      "[87]\tvalid_0's binary_logloss: 0.473419\n",
      "[88]\tvalid_0's binary_logloss: 0.473408\n",
      "[89]\tvalid_0's binary_logloss: 0.473405\n",
      "[90]\tvalid_0's binary_logloss: 0.473401\n",
      "[91]\tvalid_0's binary_logloss: 0.473405\n",
      "[92]\tvalid_0's binary_logloss: 0.473401\n",
      "[93]\tvalid_0's binary_logloss: 0.473375\n",
      "[94]\tvalid_0's binary_logloss: 0.473361\n",
      "[95]\tvalid_0's binary_logloss: 0.473347\n",
      "[96]\tvalid_0's binary_logloss: 0.47335\n",
      "[97]\tvalid_0's binary_logloss: 0.473347\n",
      "[98]\tvalid_0's binary_logloss: 0.473338\n",
      "[99]\tvalid_0's binary_logloss: 0.473324\n",
      "[100]\tvalid_0's binary_logloss: 0.473324\n",
      "[101]\tvalid_0's binary_logloss: 0.473302\n",
      "[102]\tvalid_0's binary_logloss: 0.473297\n",
      "[103]\tvalid_0's binary_logloss: 0.473296\n",
      "[104]\tvalid_0's binary_logloss: 0.473297\n",
      "[105]\tvalid_0's binary_logloss: 0.473298\n",
      "[106]\tvalid_0's binary_logloss: 0.4733\n",
      "[107]\tvalid_0's binary_logloss: 0.4733\n",
      "[108]\tvalid_0's binary_logloss: 0.473298\n",
      "[109]\tvalid_0's binary_logloss: 0.473294\n",
      "[110]\tvalid_0's binary_logloss: 0.473294\n",
      "[111]\tvalid_0's binary_logloss: 0.473293\n",
      "[112]\tvalid_0's binary_logloss: 0.473293\n",
      "[113]\tvalid_0's binary_logloss: 0.473293\n",
      "[114]\tvalid_0's binary_logloss: 0.473289\n",
      "[115]\tvalid_0's binary_logloss: 0.473286\n",
      "[116]\tvalid_0's binary_logloss: 0.473285\n",
      "[117]\tvalid_0's binary_logloss: 0.473283\n",
      "[118]\tvalid_0's binary_logloss: 0.473283\n",
      "[119]\tvalid_0's binary_logloss: 0.47328\n",
      "[120]\tvalid_0's binary_logloss: 0.473279\n",
      "[121]\tvalid_0's binary_logloss: 0.473279\n",
      "[122]\tvalid_0's binary_logloss: 0.473279\n",
      "[123]\tvalid_0's binary_logloss: 0.473279\n",
      "[124]\tvalid_0's binary_logloss: 0.473277\n",
      "[125]\tvalid_0's binary_logloss: 0.473279\n",
      "[126]\tvalid_0's binary_logloss: 0.473279\n",
      "[127]\tvalid_0's binary_logloss: 0.473279\n",
      "[128]\tvalid_0's binary_logloss: 0.473277\n",
      "[129]\tvalid_0's binary_logloss: 0.473277\n",
      "[130]\tvalid_0's binary_logloss: 0.473278\n",
      "[131]\tvalid_0's binary_logloss: 0.473278\n",
      "[132]\tvalid_0's binary_logloss: 0.473278\n",
      "[133]\tvalid_0's binary_logloss: 0.473278\n",
      "[134]\tvalid_0's binary_logloss: 0.473278\n",
      "[135]\tvalid_0's binary_logloss: 0.473278\n",
      "[136]\tvalid_0's binary_logloss: 0.473278\n",
      "[137]\tvalid_0's binary_logloss: 0.473278\n",
      "[138]\tvalid_0's binary_logloss: 0.473278\n",
      "[139]\tvalid_0's binary_logloss: 0.473278\n",
      "[140]\tvalid_0's binary_logloss: 0.473278\n",
      "[141]\tvalid_0's binary_logloss: 0.473278\n",
      "[142]\tvalid_0's binary_logloss: 0.473278\n",
      "[143]\tvalid_0's binary_logloss: 0.473278\n",
      "[144]\tvalid_0's binary_logloss: 0.473278\n",
      "[145]\tvalid_0's binary_logloss: 0.473278\n",
      "[146]\tvalid_0's binary_logloss: 0.473278\n",
      "[147]\tvalid_0's binary_logloss: 0.473278\n",
      "[148]\tvalid_0's binary_logloss: 0.473278\n",
      "[149]\tvalid_0's binary_logloss: 0.473278\n",
      "[150]\tvalid_0's binary_logloss: 0.473278\n",
      "[151]\tvalid_0's binary_logloss: 0.473278\n",
      "[152]\tvalid_0's binary_logloss: 0.473278\n",
      "[153]\tvalid_0's binary_logloss: 0.473278\n",
      "[154]\tvalid_0's binary_logloss: 0.473278\n",
      "[155]\tvalid_0's binary_logloss: 0.473278\n",
      "[156]\tvalid_0's binary_logloss: 0.473278\n",
      "[157]\tvalid_0's binary_logloss: 0.473278\n",
      "[158]\tvalid_0's binary_logloss: 0.473278\n",
      "[159]\tvalid_0's binary_logloss: 0.473278\n",
      "[160]\tvalid_0's binary_logloss: 0.473278\n",
      "[161]\tvalid_0's binary_logloss: 0.473278\n",
      "[162]\tvalid_0's binary_logloss: 0.473278\n",
      "[163]\tvalid_0's binary_logloss: 0.473278\n",
      "[164]\tvalid_0's binary_logloss: 0.473278\n",
      "[165]\tvalid_0's binary_logloss: 0.473278\n",
      "[166]\tvalid_0's binary_logloss: 0.473278\n",
      "[167]\tvalid_0's binary_logloss: 0.473278\n",
      "[168]\tvalid_0's binary_logloss: 0.473278\n",
      "[169]\tvalid_0's binary_logloss: 0.473278\n",
      "[170]\tvalid_0's binary_logloss: 0.473278\n",
      "[171]\tvalid_0's binary_logloss: 0.473278\n",
      "[172]\tvalid_0's binary_logloss: 0.473278\n",
      "[173]\tvalid_0's binary_logloss: 0.473278\n",
      "[174]\tvalid_0's binary_logloss: 0.473278\n",
      "[175]\tvalid_0's binary_logloss: 0.473278\n",
      "[176]\tvalid_0's binary_logloss: 0.473278\n",
      "[177]\tvalid_0's binary_logloss: 0.473278\n",
      "[178]\tvalid_0's binary_logloss: 0.473278\n",
      "Early stopping, best iteration is:\n",
      "[128]\tvalid_0's binary_logloss: 0.473277\n",
      "[1]\tvalid_0's binary_logloss: 0.51162\n",
      "Training until validation scores don't improve for 50 rounds.\n",
      "[2]\tvalid_0's binary_logloss: 0.507137\n",
      "[3]\tvalid_0's binary_logloss: 0.503914\n",
      "[4]\tvalid_0's binary_logloss: 0.500827\n",
      "[5]\tvalid_0's binary_logloss: 0.498607\n",
      "[6]\tvalid_0's binary_logloss: 0.495751\n",
      "[7]\tvalid_0's binary_logloss: 0.494012\n",
      "[8]\tvalid_0's binary_logloss: 0.492188\n",
      "[9]\tvalid_0's binary_logloss: 0.490385\n",
      "[10]\tvalid_0's binary_logloss: 0.489174\n",
      "[11]\tvalid_0's binary_logloss: 0.487766\n",
      "[12]\tvalid_0's binary_logloss: 0.486467\n",
      "[13]\tvalid_0's binary_logloss: 0.485027\n",
      "[14]\tvalid_0's binary_logloss: 0.484511\n",
      "[15]\tvalid_0's binary_logloss: 0.483881\n",
      "[16]\tvalid_0's binary_logloss: 0.482947\n",
      "[17]\tvalid_0's binary_logloss: 0.482428\n",
      "[18]\tvalid_0's binary_logloss: 0.481719\n",
      "[19]\tvalid_0's binary_logloss: 0.481129\n",
      "[20]\tvalid_0's binary_logloss: 0.480593\n",
      "[21]\tvalid_0's binary_logloss: 0.480351\n",
      "[22]\tvalid_0's binary_logloss: 0.479814\n",
      "[23]\tvalid_0's binary_logloss: 0.47957\n",
      "[24]\tvalid_0's binary_logloss: 0.479118\n",
      "[25]\tvalid_0's binary_logloss: 0.478663\n",
      "[26]\tvalid_0's binary_logloss: 0.478224\n",
      "[27]\tvalid_0's binary_logloss: 0.477916\n",
      "[28]\tvalid_0's binary_logloss: 0.477652\n",
      "[29]\tvalid_0's binary_logloss: 0.477333\n",
      "[30]\tvalid_0's binary_logloss: 0.476953\n",
      "[31]\tvalid_0's binary_logloss: 0.476785\n",
      "[32]\tvalid_0's binary_logloss: 0.47657\n",
      "[33]\tvalid_0's binary_logloss: 0.476277\n",
      "[34]\tvalid_0's binary_logloss: 0.476048\n",
      "[35]\tvalid_0's binary_logloss: 0.475836\n",
      "[36]\tvalid_0's binary_logloss: 0.475768\n",
      "[37]\tvalid_0's binary_logloss: 0.475593\n",
      "[38]\tvalid_0's binary_logloss: 0.475365\n",
      "[39]\tvalid_0's binary_logloss: 0.47524\n",
      "[40]\tvalid_0's binary_logloss: 0.475104\n",
      "[41]\tvalid_0's binary_logloss: 0.474949\n",
      "[42]\tvalid_0's binary_logloss: 0.474887\n",
      "[43]\tvalid_0's binary_logloss: 0.474764\n",
      "[44]\tvalid_0's binary_logloss: 0.474743\n",
      "[45]\tvalid_0's binary_logloss: 0.474664\n",
      "[46]\tvalid_0's binary_logloss: 0.47452\n",
      "[47]\tvalid_0's binary_logloss: 0.474365\n",
      "[48]\tvalid_0's binary_logloss: 0.474282\n",
      "[49]\tvalid_0's binary_logloss: 0.474221\n",
      "[50]\tvalid_0's binary_logloss: 0.474187\n",
      "[51]\tvalid_0's binary_logloss: 0.474115\n",
      "[52]\tvalid_0's binary_logloss: 0.474094\n",
      "[53]\tvalid_0's binary_logloss: 0.47404\n",
      "[54]\tvalid_0's binary_logloss: 0.474026\n",
      "[55]\tvalid_0's binary_logloss: 0.473939\n",
      "[56]\tvalid_0's binary_logloss: 0.473832\n",
      "[57]\tvalid_0's binary_logloss: 0.473707\n",
      "[58]\tvalid_0's binary_logloss: 0.473552\n",
      "[59]\tvalid_0's binary_logloss: 0.473483\n",
      "[60]\tvalid_0's binary_logloss: 0.47346\n",
      "[61]\tvalid_0's binary_logloss: 0.473396\n",
      "[62]\tvalid_0's binary_logloss: 0.473378\n",
      "[63]\tvalid_0's binary_logloss: 0.473362\n",
      "[64]\tvalid_0's binary_logloss: 0.473329\n",
      "[65]\tvalid_0's binary_logloss: 0.473267\n",
      "[66]\tvalid_0's binary_logloss: 0.473215\n",
      "[67]\tvalid_0's binary_logloss: 0.473146\n",
      "[68]\tvalid_0's binary_logloss: 0.47314\n",
      "[69]\tvalid_0's binary_logloss: 0.473079\n",
      "[70]\tvalid_0's binary_logloss: 0.473068\n",
      "[71]\tvalid_0's binary_logloss: 0.473037\n",
      "[72]\tvalid_0's binary_logloss: 0.473024\n",
      "[73]\tvalid_0's binary_logloss: 0.472962\n",
      "[74]\tvalid_0's binary_logloss: 0.4729\n",
      "[75]\tvalid_0's binary_logloss: 0.47287\n",
      "[76]\tvalid_0's binary_logloss: 0.472857\n",
      "[77]\tvalid_0's binary_logloss: 0.472844\n",
      "[78]\tvalid_0's binary_logloss: 0.472826\n",
      "[79]\tvalid_0's binary_logloss: 0.472801\n",
      "[80]\tvalid_0's binary_logloss: 0.472782\n",
      "[81]\tvalid_0's binary_logloss: 0.47276\n",
      "[82]\tvalid_0's binary_logloss: 0.47275\n",
      "[83]\tvalid_0's binary_logloss: 0.472721\n",
      "[84]\tvalid_0's binary_logloss: 0.472697\n",
      "[85]\tvalid_0's binary_logloss: 0.472686\n",
      "[86]\tvalid_0's binary_logloss: 0.472686\n",
      "[87]\tvalid_0's binary_logloss: 0.472687\n",
      "[88]\tvalid_0's binary_logloss: 0.472661\n",
      "[89]\tvalid_0's binary_logloss: 0.472625\n",
      "[90]\tvalid_0's binary_logloss: 0.472613\n",
      "[91]\tvalid_0's binary_logloss: 0.472594\n",
      "[92]\tvalid_0's binary_logloss: 0.47259\n",
      "[93]\tvalid_0's binary_logloss: 0.472568\n",
      "[94]\tvalid_0's binary_logloss: 0.472563\n",
      "[95]\tvalid_0's binary_logloss: 0.472551\n",
      "[96]\tvalid_0's binary_logloss: 0.472554\n",
      "[97]\tvalid_0's binary_logloss: 0.472552\n",
      "[98]\tvalid_0's binary_logloss: 0.472552\n",
      "[99]\tvalid_0's binary_logloss: 0.472549\n",
      "[100]\tvalid_0's binary_logloss: 0.472552\n",
      "[101]\tvalid_0's binary_logloss: 0.472523\n",
      "[102]\tvalid_0's binary_logloss: 0.472517\n",
      "[103]\tvalid_0's binary_logloss: 0.47252\n",
      "[104]\tvalid_0's binary_logloss: 0.472514\n",
      "[105]\tvalid_0's binary_logloss: 0.472502\n",
      "[106]\tvalid_0's binary_logloss: 0.472501\n",
      "[107]\tvalid_0's binary_logloss: 0.472495\n",
      "[108]\tvalid_0's binary_logloss: 0.4725\n",
      "[109]\tvalid_0's binary_logloss: 0.472498\n",
      "[110]\tvalid_0's binary_logloss: 0.472484\n",
      "[111]\tvalid_0's binary_logloss: 0.472483\n",
      "[112]\tvalid_0's binary_logloss: 0.472489\n",
      "[113]\tvalid_0's binary_logloss: 0.472491\n",
      "[114]\tvalid_0's binary_logloss: 0.472482\n",
      "[115]\tvalid_0's binary_logloss: 0.472454\n",
      "[116]\tvalid_0's binary_logloss: 0.472449\n",
      "[117]\tvalid_0's binary_logloss: 0.472445\n",
      "[118]\tvalid_0's binary_logloss: 0.472439\n",
      "[119]\tvalid_0's binary_logloss: 0.472432\n",
      "[120]\tvalid_0's binary_logloss: 0.472424\n",
      "[121]\tvalid_0's binary_logloss: 0.472419\n",
      "[122]\tvalid_0's binary_logloss: 0.472418\n",
      "[123]\tvalid_0's binary_logloss: 0.472419\n",
      "[124]\tvalid_0's binary_logloss: 0.472414\n",
      "[125]\tvalid_0's binary_logloss: 0.472408\n",
      "[126]\tvalid_0's binary_logloss: 0.472408\n",
      "[127]\tvalid_0's binary_logloss: 0.472408\n",
      "[128]\tvalid_0's binary_logloss: 0.472401\n",
      "[129]\tvalid_0's binary_logloss: 0.472375\n",
      "[130]\tvalid_0's binary_logloss: 0.47237\n",
      "[131]\tvalid_0's binary_logloss: 0.47237\n",
      "[132]\tvalid_0's binary_logloss: 0.472368\n",
      "[133]\tvalid_0's binary_logloss: 0.472366\n",
      "[134]\tvalid_0's binary_logloss: 0.472367\n",
      "[135]\tvalid_0's binary_logloss: 0.472368\n",
      "[136]\tvalid_0's binary_logloss: 0.472368\n",
      "[137]\tvalid_0's binary_logloss: 0.472369\n",
      "[138]\tvalid_0's binary_logloss: 0.472369\n",
      "[139]\tvalid_0's binary_logloss: 0.472368\n",
      "[140]\tvalid_0's binary_logloss: 0.472365\n",
      "[141]\tvalid_0's binary_logloss: 0.472365\n",
      "[142]\tvalid_0's binary_logloss: 0.472344\n",
      "[143]\tvalid_0's binary_logloss: 0.472345\n",
      "[144]\tvalid_0's binary_logloss: 0.472347\n",
      "[145]\tvalid_0's binary_logloss: 0.472346\n",
      "[146]\tvalid_0's binary_logloss: 0.472346\n",
      "[147]\tvalid_0's binary_logloss: 0.472346\n",
      "[148]\tvalid_0's binary_logloss: 0.472344\n",
      "[149]\tvalid_0's binary_logloss: 0.472342\n",
      "[150]\tvalid_0's binary_logloss: 0.472342\n",
      "[151]\tvalid_0's binary_logloss: 0.472342\n",
      "[152]\tvalid_0's binary_logloss: 0.472342\n",
      "[153]\tvalid_0's binary_logloss: 0.472342\n",
      "[154]\tvalid_0's binary_logloss: 0.472342\n",
      "[155]\tvalid_0's binary_logloss: 0.472342\n",
      "[156]\tvalid_0's binary_logloss: 0.472342\n",
      "[157]\tvalid_0's binary_logloss: 0.472342\n",
      "[158]\tvalid_0's binary_logloss: 0.472342\n",
      "[159]\tvalid_0's binary_logloss: 0.472342\n",
      "[160]\tvalid_0's binary_logloss: 0.472342\n",
      "[161]\tvalid_0's binary_logloss: 0.472342\n",
      "[162]\tvalid_0's binary_logloss: 0.472342\n",
      "[163]\tvalid_0's binary_logloss: 0.472342\n",
      "[164]\tvalid_0's binary_logloss: 0.472342\n",
      "[165]\tvalid_0's binary_logloss: 0.472342\n",
      "[166]\tvalid_0's binary_logloss: 0.472342\n",
      "[167]\tvalid_0's binary_logloss: 0.472342\n",
      "[168]\tvalid_0's binary_logloss: 0.472342\n",
      "[169]\tvalid_0's binary_logloss: 0.472342\n",
      "[170]\tvalid_0's binary_logloss: 0.472342\n",
      "[171]\tvalid_0's binary_logloss: 0.472342\n",
      "[172]\tvalid_0's binary_logloss: 0.472342\n",
      "[173]\tvalid_0's binary_logloss: 0.472342\n",
      "[174]\tvalid_0's binary_logloss: 0.472342\n",
      "[175]\tvalid_0's binary_logloss: 0.472342\n",
      "[176]\tvalid_0's binary_logloss: 0.472342\n",
      "[177]\tvalid_0's binary_logloss: 0.472342\n",
      "[178]\tvalid_0's binary_logloss: 0.472342\n",
      "[179]\tvalid_0's binary_logloss: 0.472342\n",
      "[180]\tvalid_0's binary_logloss: 0.472342\n",
      "[181]\tvalid_0's binary_logloss: 0.472342\n",
      "[182]\tvalid_0's binary_logloss: 0.472342\n",
      "[183]\tvalid_0's binary_logloss: 0.472342\n",
      "[184]\tvalid_0's binary_logloss: 0.472342\n",
      "[185]\tvalid_0's binary_logloss: 0.472342\n",
      "[186]\tvalid_0's binary_logloss: 0.472342\n",
      "[187]\tvalid_0's binary_logloss: 0.472342\n",
      "[188]\tvalid_0's binary_logloss: 0.472342\n",
      "[189]\tvalid_0's binary_logloss: 0.472342\n",
      "[190]\tvalid_0's binary_logloss: 0.472342\n",
      "[191]\tvalid_0's binary_logloss: 0.472342\n",
      "[192]\tvalid_0's binary_logloss: 0.472342\n",
      "[193]\tvalid_0's binary_logloss: 0.472342\n",
      "[194]\tvalid_0's binary_logloss: 0.472342\n",
      "[195]\tvalid_0's binary_logloss: 0.472342\n",
      "[196]\tvalid_0's binary_logloss: 0.472342\n",
      "[197]\tvalid_0's binary_logloss: 0.472342\n",
      "[198]\tvalid_0's binary_logloss: 0.472342\n",
      "[199]\tvalid_0's binary_logloss: 0.472342\n",
      "Early stopping, best iteration is:\n",
      "[149]\tvalid_0's binary_logloss: 0.472342\n",
      "6.716974258422852\n"
     ]
    }
   ],
   "source": [
    "# Optimizing lightgbm with gridsearch\n",
    "start=time()\n",
    "params={\n",
    "    # 'boosting_type':['gbdt','dart','goss'],\n",
    "    'max_depth':[20],\n",
    "    'learning_rate':[0.1],\n",
    "    'n_estimators':[500],\n",
    "    'colsample_bytree':[0.3],\n",
    "    'subsample':[0.1],\n",
    "    'min_split_gain':[0.3],\n",
    "    'reg_alpha':[0.01],\n",
    "    'reg_lambda':[0.1]\n",
    "    }\n",
    "\n",
    "grid_lgbc=GridSearchCV(lgbc,param_grid=params,scoring=['accuracy','f1'],cv=3,refit='f1')\n",
    "grid_lgbc.fit(X_train1,y_train,eval_set=(X_test1,y_test),eval_metric='binary_logloss')\n",
    "print(time()-start)"
   ]
  },
  {
   "cell_type": "code",
   "execution_count": 86,
   "id": "efTNUsBriCus",
   "metadata": {
    "colab": {
     "base_uri": "https://localhost:8080/"
    },
    "id": "efTNUsBriCus",
    "outputId": "f0879fe0-66d3-40b8-9507-d301f7be040e"
   },
   "outputs": [
    {
     "data": {
      "text/plain": [
       "{'colsample_bytree': 0.3,\n",
       " 'learning_rate': 0.1,\n",
       " 'max_depth': 20,\n",
       " 'min_split_gain': 0.3,\n",
       " 'n_estimators': 500,\n",
       " 'reg_alpha': 0.01,\n",
       " 'reg_lambda': 0.1,\n",
       " 'subsample': 0.1}"
      ]
     },
     "execution_count": 86,
     "metadata": {},
     "output_type": "execute_result"
    }
   ],
   "source": [
    "grid_lgbc.best_params_"
   ]
  },
  {
   "cell_type": "code",
   "execution_count": 91,
   "id": "6PCxYG1fiISR",
   "metadata": {
    "colab": {
     "base_uri": "https://localhost:8080/"
    },
    "id": "6PCxYG1fiISR",
    "outputId": "9d298c3e-47b6-40c5-b1a2-c4c82f4ed573"
   },
   "outputs": [
    {
     "name": "stdout",
     "output_type": "stream",
     "text": [
      "accuracy:  0.8121666666666667\n",
      "f1_score:  0.29641653140217256\n"
     ]
    }
   ],
   "source": [
    "print('accuracy: ',accuracy_score(y_test,grid_lgbc.predict(X_test1)))\n",
    "print('f1_score: ',f1_score(y_test,grid_lgbc.predict(X_test1)))"
   ]
  },
  {
   "cell_type": "code",
   "execution_count": 93,
   "id": "S2LN1V_DiW76",
   "metadata": {
    "colab": {
     "base_uri": "https://localhost:8080/",
     "height": 279
    },
    "id": "S2LN1V_DiW76",
    "outputId": "d2dc1d5a-f678-47f7-a141-e7a2a1200397"
   },
   "outputs": [
    {
     "data": {
      "image/png": "[encoded data removed]",
      "text/plain": [
       "<Figure size 432x288 with 2 Axes>"
      ]
     },
     "metadata": {
      "needs_background": "light"
     },
     "output_type": "display_data"
    }
   ],
   "source": [
    "from sklearn.metrics import ConfusionMatrixDisplay\n",
    "\n",
    "ConfusionMatrixDisplay.from_estimator(grid_lgbc, X_test1, y_test);"
   ]
  },
  {
   "cell_type": "markdown",
   "id": "a68010e4",
   "metadata": {},
   "source": [
    "<h4>Risks of using the model in production</h4>"
   ]
  },
  {
   "cell_type": "markdown",
   "id": "cffed4c4",
   "metadata": {},
   "source": [
    "As can be seen from the different models, the f1 score of the classifiers is about 0.3 and there are a large number of false negatives. That is model predicts actual clicks as 0 which may lead the company to miss out on business oppotunity"
   ]
  },
  {
   "cell_type": "code",
   "execution_count": null,
   "id": "c1a2770c",
   "metadata": {},
   "outputs": [],
   "source": []
  }
 ],
 "metadata": {
  "colab": {
   "name": "Click Through Rate Prediction.ipynb",
   "provenance": []
  },
  "gpuClass": "standard",
  "hide_input": false,
  "kernelspec": {
   "display_name": "Python 3 (ipykernel)",
   "language": "python",
   "name": "python3"
  },
  "language_info": {
   "codemirror_mode": {
    "name": "ipython",
    "version": 3
   },
   "file_extension": ".py",
   "mimetype": "text/x-python",
   "name": "python",
   "nbconvert_exporter": "python",
   "pygments_lexer": "ipython3",
   "version": "3.8.8"
  }
 },
 "nbformat": 4,
 "nbformat_minor": 5
}
